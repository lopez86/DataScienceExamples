{
 "cells": [
  {
   "cell_type": "markdown",
   "metadata": {},
   "source": [
    "# Introduction\n",
    "\n",
    "This notebook uses a data set from a recent Kaggle competition (https://www.kaggle.com/c/spooky-author-identification) where we are asked to analyze a series of texts and identify them as being written by Mary Shelley, HP Lovecraft, or Edgar Allen Poe. The text snippets are fairly short, so we have to make predictions based on a small number of features per example.\n",
    "\n",
    "The data set is also quite small, so overfitting is likely to be a problem for many methods. But, it's also small enough to be easy to show various methods in natural language processing. Some things that I show here are:\n",
    "\n",
    "  - Text analysis with NLTK, GenSim, and Scikit-learn\n",
    "  - Stop words removal\n",
    "  - Stemming and Lemmatization\n",
    "  - One-hot encoding of text (single words and n-grams)\n",
    "  - Low-dimensional feature encoding with Latent Semantic Analysis and Latent Dirichlet Association\n",
    "  - Random Forest Classification\n",
    "  - Term Frequency (TF) matrix\n",
    "  - Tf-idf weighting\n",
    "  - Naive Bayes Classification (Multinomial with some code for Bernoulli)\n",
    "\n",
    "First, we should import some basic libraries that will be useful. While scikit-learn has some NLP classes that I will use later, I will first start out with NLTK and gensim, which are dedicated NLP packages."
   ]
  },
  {
   "cell_type": "code",
   "execution_count": 1,
   "metadata": {
    "collapsed": true
   },
   "outputs": [],
   "source": [
    "import nltk\n",
    "import gensim\n",
    "import matplotlib.pyplot as plt\n",
    "import numpy as np\n",
    "import pandas as pd\n",
    "import re\n",
    "\n",
    "%matplotlib inline"
   ]
  },
  {
   "cell_type": "markdown",
   "metadata": {},
   "source": [
    "Now, we can read in the files. They are just CSV files, so Pandas is fine. I am also intentionally not setting the ID column so that I can can just use the array index with brackets on a Series. This way I can treat Series objects the same way that I would treat lists, which might simplify some things."
   ]
  },
  {
   "cell_type": "code",
   "execution_count": 2,
   "metadata": {
    "collapsed": true
   },
   "outputs": [],
   "source": [
    "train = pd.read_csv('train.csv')\n",
    "test = pd.read_csv('test.csv')"
   ]
  },
  {
   "cell_type": "code",
   "execution_count": 4,
   "metadata": {},
   "outputs": [
    {
     "name": "stdout",
     "output_type": "stream",
     "text": [
      "Train length: 19579\n",
      "Test length: 8392\n",
      "Target Distribution: \n",
      "EAP    7900\n",
      "MWS    6044\n",
      "HPL    5635\n",
      "Name: author, dtype: int64\n"
     ]
    }
   ],
   "source": [
    "print('Train length: '+str(len(train['text'])))\n",
    "print('Test length: '+str(len(test['text'])))\n",
    "print('Target Distribution: \\n'+str(train['author'].value_counts()))"
   ]
  },
  {
   "cell_type": "markdown",
   "metadata": {},
   "source": [
    "We can see that about 40% of all entries are from Poe. The data is somewhat imbalanced, so for things like decision trees, we might want to set sample weights to even things out.\n",
    "\n",
    "# Data Munging\n",
    "\n",
    "Now, we want to somehow map these texts onto the same space so that we can try to make predictions. First, we'll transform the targets into a numerical encoding."
   ]
  },
  {
   "cell_type": "code",
   "execution_count": 5,
   "metadata": {
    "collapsed": true
   },
   "outputs": [],
   "source": [
    "train_text = train['text']\n",
    "test_text = test['text']\n",
    "auth_map = {0:'EAP',1:'HPL',2:'MWS'}\n",
    "auth_map_inv = {'EAP':0,'HPL':1,'MWS':2}\n",
    "train_tgt = train['author'].map(auth_map_inv)"
   ]
  },
  {
   "cell_type": "markdown",
   "metadata": {},
   "source": [
    "### Basic Text Cleaning\n",
    "\n",
    "The text is from English-language authors, so we can easily just set everything to lowercase and remove punctuation. We will replace all non-alphabetic characters to spaces here."
   ]
  },
  {
   "cell_type": "code",
   "execution_count": 6,
   "metadata": {
    "collapsed": true
   },
   "outputs": [],
   "source": [
    "train_text = [re.sub(r'[^a-z]',' ',text.lower()) for text in train_text]\n",
    "test_text = [re.sub(r'[^a-z]',' ',text.lower()) for text in test_text]\n"
   ]
  },
  {
   "cell_type": "markdown",
   "metadata": {},
   "source": [
    "### Splitting Into Words\n",
    "\n",
    "Now we should split the text into individual words for further analysis."
   ]
  },
  {
   "cell_type": "code",
   "execution_count": 7,
   "metadata": {
    "collapsed": true
   },
   "outputs": [],
   "source": [
    "all_text = train_text + test_text\n",
    "all_text = [text.split() for text in all_text]\n",
    "all_text = [nltk.pos_tag(text) for text in all_text]"
   ]
  },
  {
   "cell_type": "markdown",
   "metadata": {},
   "source": [
    "### Removing Stop Words\n",
    "\n",
    "Stop words are very common words that hold little information. Words like \"a,\" \"the,\" \"I,\", etc. typically don't tell us much about the text, so we can typically remove them to help improve our models. This is perhaps a bit risky here. For example, if one of the authors prefers to use first-person narratives often, removing words like \"I,\" \"me,\" and \"my\" might hide this. I won't worry about this for now.\n",
    "\n",
    "For stop words, I will use the standard list from NLTK."
   ]
  },
  {
   "cell_type": "code",
   "execution_count": 8,
   "metadata": {
    "collapsed": true
   },
   "outputs": [],
   "source": [
    "stops = nltk.corpus.stopwords.words('english')\n",
    "def set_pos(pos):\n",
    "    if pos[0]=='J':\n",
    "        return nltk.corpus.wordnet.ADJ\n",
    "    elif pos[0]=='V':\n",
    "        return nltk.corpus.wordnet.VERB\n",
    "    elif pos[0]=='N':\n",
    "        return nltk.corpus.wordnet.NOUN\n",
    "    elif pos[0]=='R':\n",
    "        return nltk.corpus.wordnet.ADV\n",
    "    return 'n'\n",
    "    \n",
    "    \n",
    "all_text = [ [ (word[0],set_pos(word[1])) for word in text if word[0] not in stops] for text in all_text ]"
   ]
  },
  {
   "cell_type": "markdown",
   "metadata": {},
   "source": [
    "### Stemming/Lemmatizing\n",
    "\n",
    "Many words will appear in a number of forms, such as singular and plural nouns, adjectives and adverbs, etc. We can use stemming to try to remove the word endings so that only the \"stem\" - the part that holds the meaning of the word as opposed to its part of speech. Again, this could actually hurt us if one of the author often uses particular forms of certain words. The Porter stemmer is one example of a fairly common stemmer.\n",
    "\n",
    "Lemmatization is a more advanced version of stemming that makes use of things like the word part of speech and lists of different words to map one word to another. Unlike with stemming, this will give us a list of real words (rather than often nonsensical stems) to use. I will use the WordNet lemmatizer here."
   ]
  },
  {
   "cell_type": "code",
   "execution_count": 9,
   "metadata": {
    "collapsed": true
   },
   "outputs": [],
   "source": [
    "porter = nltk.stem.porter.PorterStemmer()\n",
    "wnlemma = nltk.stem.wordnet.WordNetLemmatizer()\n",
    "\n",
    "\n",
    "all_text = [ [ wnlemma.lemmatize(word[0],pos=nltk.corpus.wordnet.VERB) for word in text] for text in all_text]"
   ]
  },
  {
   "cell_type": "markdown",
   "metadata": {},
   "source": [
    "### Removing Very Uncommon Words\n",
    "\n",
    "After this, I am close to my final set of words to use. The last thing I'll do is remove very uncommon words. I'm using methods based on a bag-of-words model, so words that only appear a couple times are probably not going to be that useful. It could be useful to retain these words for methods that are sensitive to word context.\n",
    "\n",
    "I'll just set a minimum frequency of 3. It would actually probably be better to set a minimum document frequency here, since a single rare word could appear multiple times in a single entry."
   ]
  },
  {
   "cell_type": "code",
   "execution_count": 10,
   "metadata": {},
   "outputs": [
    {
     "name": "stdout",
     "output_type": "stream",
     "text": [
      "Total number of words: 21945\n",
      "Number of words to remove: 12445\n"
     ]
    }
   ],
   "source": [
    "min_num = 3\n",
    "\n",
    "from collections import Counter\n",
    "\n",
    "counts = Counter()\n",
    "for text in all_text:\n",
    "    for word in text:\n",
    "        counts[word] += 1\n",
    "to_remove = []\n",
    "for word in reversed(counts.most_common()):\n",
    "    if counts[word[0]]<= min_num:\n",
    "        to_remove.append(word[0])\n",
    "    else:\n",
    "        break\n",
    "print('Total number of words: '+str(len(counts)))\n",
    "print('Number of words to remove: '+str(len(to_remove)))\n",
    "#print('Words to remove: \\n' + str(to_remove))\n",
    "all_text = [ [word for word in text if word not in to_remove] for text in all_text]"
   ]
  },
  {
   "cell_type": "markdown",
   "metadata": {},
   "source": [
    "We see that in this small data set, about half of all words appear only very rarely. We will be left with a set of around 8000 words to use. We could expand this by using larger n-grams.\n",
    "\n",
    "## How Many Words Are in Each Entry?\n",
    "\n",
    "Now that we've cleaned some data, let's see how many words are left in each entry."
   ]
  },
  {
   "cell_type": "code",
   "execution_count": 11,
   "metadata": {},
   "outputs": [
    {
     "data": {
      "image/png": "[encoded data removed]",
      "text/plain": [
       "<matplotlib.figure.Figure at 0x7f95deb697b8>"
      ]
     },
     "metadata": {},
     "output_type": "display_data"
    }
   ],
   "source": [
    "lens = [len(text) for text in all_text]\n",
    "plt.hist(lens,bins=100,range=(0,100))\n",
    "plt.xlabel('Number of Words After Cleaning')\n",
    "plt.ylabel('Number of Documents')\n",
    "plt.show()"
   ]
  },
  {
   "cell_type": "markdown",
   "metadata": {},
   "source": [
    "Most of the entries are in the 10-20 word range but there is a long tail. Some documents even have more than 60 words. At any rate, the typical entry has only a small number of features for us to learn.\n",
    "\n",
    "The last thing that I will do is remove very small entries. I will bring these back when I start training classifiers, but for now, I will remove entries with only one or two remaining words."
   ]
  },
  {
   "cell_type": "code",
   "execution_count": 12,
   "metadata": {},
   "outputs": [
    {
     "name": "stdout",
     "output_type": "stream",
     "text": [
      "Number of texts smaller than minimum: 881 of 27971\n"
     ]
    }
   ],
   "source": [
    "minlen = 3\n",
    "n_to_remove = 0\n",
    "for text in all_text:\n",
    "    if len(text)<minlen:\n",
    "        n_to_remove+=1\n",
    "        \n",
    "print('Number of texts smaller than minimum: '+str(n_to_remove) + ' of '+str(len(all_text)))"
   ]
  },
  {
   "cell_type": "code",
   "execution_count": 13,
   "metadata": {
    "collapsed": true
   },
   "outputs": [],
   "source": [
    "all_text = [text for text in all_text if len(text)>=minlen]"
   ]
  },
  {
   "cell_type": "markdown",
   "metadata": {},
   "source": [
    "Only a very small fraction of entries was removed there.\n",
    "\n",
    "# Representing Entries as Vectors\n",
    "\n",
    "Now that we have a cleaned data set, we can try to map the text onto a vector space with a fixed number of dimensions. This can be done in a number of packages, but I'll use gensim here.\n",
    "\n",
    "### Bag of Words Model\n",
    "\n",
    "First, we can create a dictionary from our text. This allows us to make something like a one-hot encoding of the 8000 or so unique words in our data. This is will give us a bag-of-words model with each document being represented by a sparse vector of term frequencies."
   ]
  },
  {
   "cell_type": "code",
   "execution_count": 14,
   "metadata": {
    "collapsed": true
   },
   "outputs": [],
   "source": [
    "dictionary = gensim.corpora.Dictionary(all_text)\n",
    "word_vec = [ dictionary.doc2bow(text) for text in all_text ]"
   ]
  },
  {
   "cell_type": "markdown",
   "metadata": {},
   "source": [
    "### TF-IDF Weighting Scheme\n",
    "\n",
    "Some of these words are present in many of our documents. These typically have less meaning (or less ability to distinguish entries), so we can generate tf-idf weights. There are various ways to define tf-idf, but they all involve the term frequency (tf) for each document and the inverse of the document frequency (i.e. how many documents the word appears in)."
   ]
  },
  {
   "cell_type": "code",
   "execution_count": 15,
   "metadata": {
    "collapsed": true
   },
   "outputs": [],
   "source": [
    "tfidf = gensim.models.TfidfModel(word_vec)\n",
    "tfidf_vec = [tfidf[vec] for vec in word_vec]\n"
   ]
  },
  {
   "cell_type": "markdown",
   "metadata": {},
   "source": [
    "### Vector Encoding/Dimensionality Reduction\n",
    "\n",
    "One issue with a bag-of-words model, especially when applied to short pieces of text, is that any two entries will have little to no overlap. We can instead try to use the fact that certain words will often appear with similar other words to create smaller-dimensional vectors representing common \"topics.\"\n",
    "\n",
    "Two common ways to do this are Latent Semantic Analysis (LSA/LSI) and Latent Dirichlet Allocation (LDA). LSA is just doing a singular value decomposition and then usually taking only a subset of entries in the diagonal part. This is more or less the equivalent of PCA for a non-square matrix. I don't know too much about LDA, but it uses a probabilistic model to learn features."
   ]
  },
  {
   "cell_type": "code",
   "execution_count": 16,
   "metadata": {
    "collapsed": true
   },
   "outputs": [],
   "source": [
    "lsi = gensim.models.lsimodel.LsiModel(corpus=tfidf_vec,\n",
    "                                      id2word=dictionary, \n",
    "                                      num_topics=20)\n",
    "\n",
    "lda = gensim.models.ldamodel.LdaModel(corpus=tfidf_vec,\n",
    "                                      id2word=dictionary,\n",
    "                                      num_topics=20,passes=10)\n",
    "#                                      update_every=1,\n",
    "#                                      chunksize=5000,\n",
    "#                                      passes=10)"
   ]
  },
  {
   "cell_type": "code",
   "execution_count": 17,
   "metadata": {},
   "outputs": [
    {
     "name": "stdout",
     "output_type": "stream",
     "text": [
      "LSA Results\n"
     ]
    },
    {
     "data": {
      "text/plain": [
       "[(0,\n",
       "  '0.186*\"one\" + 0.171*\"say\" + 0.165*\"could\" + 0.160*\"would\" + 0.151*\"upon\" + 0.140*\"know\" + 0.117*\"come\" + 0.116*\"see\" + 0.114*\"make\" + 0.111*\"time\"'),\n",
       " (1,\n",
       "  '-0.789*\"say\" + -0.235*\"know\" + 0.207*\"upon\" + 0.115*\"one\" + -0.107*\"nothing\" + 0.091*\"eye\" + -0.087*\"well\" + -0.079*\"would\" + 0.077*\"open\" + -0.074*\"man\"'),\n",
       " (2,\n",
       "  '-0.437*\"say\" + 0.435*\"know\" + 0.396*\"would\" + -0.332*\"upon\" + 0.256*\"could\" + 0.157*\"think\" + -0.130*\"one\" + 0.128*\"never\" + -0.094*\"hand\" + 0.087*\"see\"'),\n",
       " (3,\n",
       "  '-0.482*\"know\" + 0.381*\"would\" + 0.301*\"could\" + -0.251*\"come\" + -0.201*\"go\" + -0.174*\"old\" + -0.126*\"night\" + -0.104*\"see\" + 0.102*\"think\" + 0.101*\"upon\"'),\n",
       " (4,\n",
       "  '-0.617*\"one\" + -0.486*\"could\" + 0.208*\"would\" + 0.167*\"upon\" + 0.167*\"us\" + 0.167*\"come\" + -0.131*\"see\" + -0.112*\"thing\" + 0.108*\"must\" + 0.106*\"let\"'),\n",
       " (5,\n",
       "  '-0.559*\"one\" + 0.422*\"could\" + 0.294*\"upon\" + -0.238*\"would\" + 0.185*\"know\" + -0.137*\"us\" + 0.134*\"eye\" + 0.130*\"nothing\" + -0.119*\"let\" + -0.115*\"day\"'),\n",
       " (6,\n",
       "  '0.446*\"upon\" + 0.421*\"know\" + 0.328*\"would\" + 0.256*\"one\" + -0.201*\"could\" + -0.189*\"never\" + -0.188*\"see\" + 0.149*\"well\" + -0.145*\"come\" + -0.124*\"yet\"'),\n",
       " (7,\n",
       "  '-0.499*\"would\" + -0.280*\"come\" + -0.247*\"go\" + 0.233*\"know\" + 0.165*\"love\" + -0.165*\"could\" + 0.156*\"life\" + -0.145*\"door\" + 0.140*\"heart\" + -0.131*\"house\"'),\n",
       " (8,\n",
       "  '-0.493*\"man\" + 0.277*\"us\" + -0.271*\"would\" + -0.239*\"old\" + -0.208*\"never\" + 0.187*\"could\" + 0.175*\"go\" + 0.164*\"take\" + 0.159*\"make\" + 0.158*\"let\"'),\n",
       " (9,\n",
       "  '0.341*\"man\" + -0.328*\"upon\" + -0.246*\"come\" + -0.242*\"see\" + 0.230*\"old\" + -0.211*\"one\" + -0.194*\"never\" + 0.182*\"take\" + 0.180*\"time\" + 0.167*\"make\"'),\n",
       " (10,\n",
       "  '0.387*\"come\" + -0.383*\"us\" + -0.367*\"see\" + -0.302*\"let\" + -0.244*\"man\" + -0.208*\"never\" + -0.158*\"go\" + 0.128*\"think\" + -0.124*\"take\" + 0.124*\"say\"'),\n",
       " (11,\n",
       "  '0.535*\"think\" + 0.265*\"go\" + -0.252*\"take\" + 0.230*\"us\" + -0.225*\"see\" + 0.209*\"man\" + -0.193*\"never\" + 0.189*\"even\" + 0.174*\"hear\" + 0.145*\"let\"'),\n",
       " (12,\n",
       "  '0.477*\"come\" + 0.325*\"man\" + 0.256*\"us\" + 0.254*\"could\" + -0.243*\"think\" + 0.188*\"upon\" + -0.187*\"go\" + -0.158*\"eye\" + -0.154*\"look\" + 0.144*\"time\"'),\n",
       " (13,\n",
       "  '-0.459*\"must\" + 0.356*\"think\" + 0.332*\"never\" + 0.272*\"time\" + 0.234*\"make\" + 0.194*\"see\" + -0.128*\"man\" + -0.128*\"could\" + -0.128*\"know\" + -0.127*\"look\"'),\n",
       " (14,\n",
       "  '0.404*\"go\" + -0.322*\"us\" + 0.290*\"take\" + 0.188*\"come\" + -0.179*\"hear\" + 0.166*\"shall\" + 0.164*\"could\" + 0.160*\"upon\" + -0.159*\"time\" + -0.157*\"door\"'),\n",
       " (15,\n",
       "  '0.512*\"must\" + -0.358*\"even\" + -0.338*\"go\" + 0.223*\"time\" + 0.211*\"think\" + -0.175*\"find\" + -0.174*\"yet\" + 0.155*\"come\" + -0.150*\"nothing\" + 0.148*\"take\"'),\n",
       " (16,\n",
       "  '-0.575*\"make\" + 0.256*\"upon\" + 0.248*\"must\" + -0.196*\"eye\" + 0.185*\"even\" + 0.178*\"time\" + 0.159*\"much\" + -0.145*\"come\" + -0.143*\"open\" + 0.132*\"things\"'),\n",
       " (17,\n",
       "  '-0.382*\"night\" + -0.300*\"find\" + 0.254*\"go\" + 0.234*\"even\" + 0.231*\"time\" + -0.222*\"hear\" + -0.190*\"take\" + -0.187*\"day\" + -0.167*\"return\" + -0.147*\"never\"'),\n",
       " (18,\n",
       "  '0.461*\"must\" + 0.370*\"make\" + -0.292*\"take\" + 0.248*\"night\" + 0.192*\"find\" + 0.179*\"day\" + -0.173*\"time\" + -0.168*\"us\" + -0.139*\"leave\" + -0.128*\"let\"'),\n",
       " (19,\n",
       "  '-0.484*\"find\" + -0.433*\"yet\" + 0.298*\"day\" + 0.269*\"night\" + 0.198*\"even\" + -0.119*\"look\" + 0.116*\"every\" + -0.113*\"tell\" + 0.104*\"saw\" + 0.101*\"sleep\"')]"
      ]
     },
     "execution_count": 17,
     "metadata": {},
     "output_type": "execute_result"
    }
   ],
   "source": [
    "print('LSA Results')\n",
    "lsi.print_topics(20)\n"
   ]
  },
  {
   "cell_type": "code",
   "execution_count": 18,
   "metadata": {},
   "outputs": [
    {
     "name": "stdout",
     "output_type": "stream",
     "text": [
      "LDA Results\n"
     ]
    },
    {
     "data": {
      "text/plain": [
       "[(0,\n",
       "  '0.006*\"whether\" + 0.006*\"restore\" + 0.006*\"lady\" + 0.005*\"also\" + 0.005*\"mother\" + 0.005*\"drink\" + 0.005*\"girl\" + 0.004*\"joy\" + 0.004*\"story\" + 0.004*\"evil\"'),\n",
       " (1,\n",
       "  '0.006*\"do\" + 0.006*\"seat\" + 0.006*\"upon\" + 0.005*\"happen\" + 0.005*\"better\" + 0.005*\"danger\" + 0.005*\"chair\" + 0.005*\"accident\" + 0.005*\"board\" + 0.005*\"avoid\"'),\n",
       " (2,\n",
       "  '0.008*\"lord\" + 0.007*\"departure\" + 0.007*\"want\" + 0.007*\"ryland\" + 0.006*\"earnest\" + 0.006*\"plague\" + 0.006*\"noon\" + 0.006*\"enemy\" + 0.006*\"solitude\" + 0.006*\"aid\"'),\n",
       " (3,\n",
       "  '0.008*\"love\" + 0.006*\"would\" + 0.006*\"happy\" + 0.006*\"feel\" + 0.005*\"hope\" + 0.005*\"say\" + 0.005*\"heart\" + 0.005*\"raymond\" + 0.005*\"felt\" + 0.004*\"regard\"'),\n",
       " (4,\n",
       "  '0.010*\"hasten\" + 0.009*\"shake\" + 0.008*\"summer\" + 0.007*\"winter\" + 0.006*\"tale\" + 0.006*\"request\" + 0.006*\"future\" + 0.006*\"sick\" + 0.006*\"positive\" + 0.006*\"examine\"'),\n",
       " (5,\n",
       "  '0.005*\"would\" + 0.005*\"die\" + 0.005*\"come\" + 0.005*\"arrive\" + 0.005*\"wonder\" + 0.005*\"walk\" + 0.005*\"dare\" + 0.005*\"dark\" + 0.004*\"sister\" + 0.004*\"sleep\"'),\n",
       " (6,\n",
       "  '0.006*\"london\" + 0.006*\"scarcely\" + 0.006*\"voice\" + 0.005*\"ring\" + 0.005*\"clear\" + 0.005*\"disappear\" + 0.005*\"tremble\" + 0.005*\"situation\" + 0.005*\"attention\" + 0.005*\"remove\"'),\n",
       " (7,\n",
       "  '0.007*\"get\" + 0.006*\"remarkable\" + 0.005*\"guess\" + 0.005*\"thing\" + 0.005*\"arkham\" + 0.005*\"species\" + 0.005*\"like\" + 0.005*\"coffin\" + 0.005*\"quite\" + 0.005*\"consent\"'),\n",
       " (8,\n",
       "  '0.006*\"upon\" + 0.005*\"eye\" + 0.005*\"close\" + 0.005*\"minutes\" + 0.004*\"suddenly\" + 0.004*\"seem\" + 0.004*\"source\" + 0.004*\"face\" + 0.004*\"light\" + 0.004*\"finally\"'),\n",
       " (9,\n",
       "  '0.005*\"mean\" + 0.005*\"question\" + 0.005*\"send\" + 0.005*\"circumstance\" + 0.005*\"occupy\" + 0.005*\"together\" + 0.004*\"prey\" + 0.004*\"necessary\" + 0.004*\"allow\" + 0.004*\"toil\"'),\n",
       " (10,\n",
       "  '0.007*\"unusual\" + 0.007*\"prepare\" + 0.006*\"sweet\" + 0.005*\"friends\" + 0.005*\"pale\" + 0.005*\"glow\" + 0.005*\"cottage\" + 0.005*\"beside\" + 0.005*\"genius\" + 0.005*\"clerval\"'),\n",
       " (11,\n",
       "  '0.009*\"therefore\" + 0.008*\"yes\" + 0.006*\"fail\" + 0.006*\"move\" + 0.006*\"regret\" + 0.006*\"sir\" + 0.006*\"miss\" + 0.005*\"relate\" + 0.005*\"odd\" + 0.005*\"add\"'),\n",
       " (12,\n",
       "  '0.007*\"live\" + 0.006*\"elizabeth\" + 0.006*\"pain\" + 0.006*\"misery\" + 0.005*\"fortune\" + 0.005*\"count\" + 0.005*\"sensation\" + 0.005*\"best\" + 0.005*\"mystery\" + 0.005*\"murder\"'),\n",
       " (13,\n",
       "  '0.007*\"conceive\" + 0.007*\"fair\" + 0.007*\"village\" + 0.007*\"explain\" + 0.005*\"measure\" + 0.005*\"south\" + 0.005*\"advantage\" + 0.005*\"slip\" + 0.005*\"captain\" + 0.005*\"jupiter\"'),\n",
       " (14,\n",
       "  '0.006*\"could\" + 0.006*\"one\" + 0.005*\"know\" + 0.005*\"door\" + 0.005*\"old\" + 0.005*\"house\" + 0.005*\"come\" + 0.005*\"two\" + 0.005*\"open\" + 0.004*\"things\"'),\n",
       " (15,\n",
       "  '0.007*\"sensations\" + 0.007*\"chain\" + 0.006*\"write\" + 0.006*\"describe\" + 0.005*\"elwood\" + 0.005*\"occasion\" + 0.005*\"ascend\" + 0.005*\"complete\" + 0.005*\"similar\" + 0.004*\"possession\"'),\n",
       " (16,\n",
       "  '0.014*\"innsmouth\" + 0.009*\"procure\" + 0.009*\"brief\" + 0.008*\"sing\" + 0.008*\"hurry\" + 0.008*\"relief\" + 0.007*\"success\" + 0.007*\"arrest\" + 0.006*\"history\" + 0.006*\"upper\"'),\n",
       " (17,\n",
       "  '0.008*\"window\" + 0.006*\"cover\" + 0.006*\"mad\" + 0.005*\"overwhelm\" + 0.005*\"show\" + 0.005*\"lightning\" + 0.005*\"bed\" + 0.005*\"flame\" + 0.005*\"conjecture\" + 0.005*\"rush\"'),\n",
       " (18,\n",
       "  '0.006*\"raymond\" + 0.005*\"idris\" + 0.005*\"adrian\" + 0.005*\"follow\" + 0.005*\"alas\" + 0.004*\"tower\" + 0.004*\"answer\" + 0.004*\"events\" + 0.004*\"bestow\" + 0.004*\"sure\"'),\n",
       " (19,\n",
       "  '0.006*\"desire\" + 0.005*\"happiness\" + 0.005*\"know\" + 0.005*\"never\" + 0.005*\"express\" + 0.005*\"fellow\" + 0.005*\"god\" + 0.005*\"one\" + 0.004*\"would\" + 0.004*\"say\"')]"
      ]
     },
     "execution_count": 18,
     "metadata": {},
     "output_type": "execute_result"
    }
   ],
   "source": [
    "print('LDA Results')\n",
    "lda.print_topics(20)"
   ]
  },
  {
   "cell_type": "markdown",
   "metadata": {},
   "source": [
    "# Preparing the Training and Test Sets\n",
    "\n",
    "The work we did previously is all data munging and unsupervised training on the full (training and test) data set. Now, we should repeat our work separately for the training and test sets. We could just split the combined array back into two, but it's nicer to package our work into a single short function."
   ]
  },
  {
   "cell_type": "code",
   "execution_count": 21,
   "metadata": {
    "collapsed": true
   },
   "outputs": [],
   "source": [
    "# mod gives the mapping from tfidf to the 50-feature space\n",
    "def prepare_text(data,mod):\n",
    "    data = [re.sub(r'[^a-z]',' ',text.lower()) for text in data]\n",
    "    data = [text.split() for text in data]\n",
    "    data = [nltk.pos_tag(text) for text in data]\n",
    "    data = [ [ (word[0],set_pos(word[1])) for word in \n",
    "                  text if word[0] not in stops] for text in data ]\n",
    "    data = [ [ wnlemma.lemmatize(word[0],pos=nltk.corpus.wordnet.VERB) \n",
    "              for word in text] for text in data]\n",
    "    data = [dictionary.doc2bow(text) for text in data]\n",
    "    data = [tfidf[text] for text in data ]\n",
    "    data = [mod[text] for text in data]\n",
    "\n",
    "    data_arr = []\n",
    "    for text in data:\n",
    "        data_arr.append([0.]*20)\n",
    "        for word in text:\n",
    "            data_arr[-1][word[0]] = word[1]\n",
    "\n",
    "    return np.array(data_arr)"
   ]
  },
  {
   "cell_type": "markdown",
   "metadata": {},
   "source": [
    "Now, we can run on the training and test sets using the LSA model."
   ]
  },
  {
   "cell_type": "code",
   "execution_count": 31,
   "metadata": {
    "collapsed": true
   },
   "outputs": [],
   "source": [
    "train_prep = prepare_text(train_text,lda)\n",
    "test_prep = prepare_text(test_text,lda)"
   ]
  },
  {
   "cell_type": "markdown",
   "metadata": {},
   "source": [
    "# kNN Classification\n",
    "\n",
    "The first method that we will try is a kNN classification. We've reduced our large feature set to a much smaller encoding, so now we can try to classify texts by the labels of nearby texts."
   ]
  },
  {
   "cell_type": "code",
   "execution_count": 25,
   "metadata": {},
   "outputs": [
    {
     "name": "stdout",
     "output_type": "stream",
     "text": [
      "{'n_neighbors': 50, 'p': 1}\n",
      "[-1.20793729 -0.95449827 -0.8871786 ]\n",
      "[-0.76359443 -0.80050618 -0.83610568]\n"
     ]
    }
   ],
   "source": [
    "from sklearn.neighbors import KNeighborsClassifier\n",
    "from sklearn.model_selection import cross_validate\n",
    "import sklearn.metrics as metrics\n",
    "from sklearn.model_selection import GridSearchCV\n",
    "\n",
    "knn = KNeighborsClassifier()\n",
    "pars = {'p':[1],'n_neighbors':[15,25,50]}\n",
    "gcv = GridSearchCV(knn,param_grid=pars,scoring='neg_log_loss',cv=5)\n",
    "gcv.fit(train_prep,np.array(train_tgt))\n",
    "\n",
    "print(gcv.best_params_)\n",
    "print(gcv.cv_results_['mean_test_score'])\n",
    "print(gcv.cv_results_['mean_train_score'])"
   ]
  },
  {
   "cell_type": "markdown",
   "metadata": {},
   "source": [
    "# Running a Random Forest Classifier\n",
    "\n",
    "A Random Forest is a fairly straightforward type of classifier. We use the 50 features of our encoding as inputs and try to predict which of the three authors wrote which text."
   ]
  },
  {
   "cell_type": "code",
   "execution_count": 26,
   "metadata": {},
   "outputs": [
    {
     "name": "stdout",
     "output_type": "stream",
     "text": [
      "0    1.000000\n",
      "2    1.307081\n",
      "1    1.401952\n",
      "Name: author, dtype: float64\n"
     ]
    },
    {
     "data": {
      "text/plain": [
       "{'fit_time': array([ 1.96204352,  1.92350149,  1.93846989,  1.98561382,  1.88812733]),\n",
       " 'score_time': array([ 0.02696228,  0.02624106,  0.02706885,  0.02936625,  0.02635312]),\n",
       " 'test_score': array([-0.87514703, -0.86338331, -0.8542745 , -0.86460545, -0.86673577]),\n",
       " 'train_score': array([-0.71751604, -0.72417811, -0.72447394, -0.72236722, -0.72170626])}"
      ]
     },
     "execution_count": 26,
     "metadata": {},
     "output_type": "execute_result"
    }
   ],
   "source": [
    "from sklearn.ensemble import RandomForestClassifier\n",
    "\n",
    "\n",
    "# Get class weights: The data set is imbalanced\n",
    "\n",
    "weights = np.max(train_tgt.value_counts())/train_tgt.value_counts()\n",
    "print(weights)\n",
    "\n",
    "c_weight = {}\n",
    "for i in range(len(weights)):\n",
    "    c_weight[weights.index[i]] = weights[i]\n",
    "    \n",
    "# This is just the same as scoring='neg_log_loss'\n",
    "logloss_score = metrics.make_scorer(metrics.log_loss,needs_proba=True,greater_is_better=False)\n",
    "\n",
    "# Random forest with some random params\n",
    "rfc = RandomForestClassifier(max_depth=10,min_samples_leaf=10,n_estimators=50,\n",
    "                             class_weight=c_weight)\n",
    "\n",
    "# Cross validate\n",
    "scores = cross_validate(rfc,train_prep,np.array(train_tgt),cv=5,\n",
    "                        scoring=logloss_score)\n",
    "scores"
   ]
  },
  {
   "cell_type": "code",
   "execution_count": 29,
   "metadata": {},
   "outputs": [
    {
     "data": {
      "text/plain": [
       "GridSearchCV(cv=5, error_score='raise',\n",
       "       estimator=RandomForestClassifier(bootstrap=True,\n",
       "            class_weight={0: 1.0, 2: 1.401952085181899, 1: 1.3070814030443414},\n",
       "            criterion='gini', max_depth=10, max_features='auto',\n",
       "            max_leaf_nodes=None, min_impurity_decrease=0.0,\n",
       "            min_impurity_split=None, min_samples_leaf=10,\n",
       "            min_samples_split=2, min_weight_fraction_leaf=0.0,\n",
       "            n_estimators=50, n_jobs=1, oob_score=False, random_state=None,\n",
       "            verbose=0, warm_start=False),\n",
       "       fit_params=None, iid=True, n_jobs=1,\n",
       "       param_grid={'max_depth': [15, None], 'min_samples_leaf': [2, 5, 10], 'n_estimators': [50]},\n",
       "       pre_dispatch='2*n_jobs', refit=True, return_train_score=True,\n",
       "       scoring=make_scorer(log_loss, greater_is_better=False, needs_proba=True),\n",
       "       verbose=0)"
      ]
     },
     "execution_count": 29,
     "metadata": {},
     "output_type": "execute_result"
    }
   ],
   "source": [
    "pars = {'max_depth':[15,None],'min_samples_leaf':[2,5,10],'n_estimators':[50]}\n",
    "gcv = GridSearchCV(rfc,param_grid=pars,scoring=logloss_score,cv=5)\n",
    "gcv.fit(train_prep,np.array(train_tgt))\n"
   ]
  },
  {
   "cell_type": "code",
   "execution_count": 30,
   "metadata": {},
   "outputs": [
    {
     "name": "stdout",
     "output_type": "stream",
     "text": [
      "{'max_depth': 15, 'min_samples_leaf': 2, 'n_estimators': 50}\n",
      "[-0.84725913 -0.84823735 -0.85391937 -0.85712546 -0.84881893 -0.85293451]\n",
      "[-0.3874443  -0.52536579 -0.64057104 -0.31958367 -0.50485568 -0.63549075]\n"
     ]
    }
   ],
   "source": [
    "print(gcv.best_params_)\n",
    "print(gcv.cv_results_['mean_test_score'])\n",
    "print(gcv.cv_results_['mean_train_score'])"
   ]
  },
  {
   "cell_type": "markdown",
   "metadata": {},
   "source": [
    "We see that, at least without heavily tuning the different parameters of the model, we can do better than just guessing Poe for everything, but we still only get around 60% correct if we look at the equivalent accuracy scores. Furthermore, this model is quite slow. \n",
    "\n",
    "Why might this approach not work too well? First, as I already said, this analysis is not optimized very well. Perhaps there is some combination of parameters that works much better. It might take a long time to find those parameters if they do exist. We could also try other methods such as neural nets or boosted decision trees, but we'll have to be very careful about overtraining. More importantly, we're trying to cluster short pieces of text into individual topics. However, these authors all wrote works with similar themes in English in the 1800s and (for Lovecraft) early 1900s. It may simply be that many of the topics that we've found appear in the works of all three. It also may be that the texts are simply too short to get a good encoding of the topic. So, are there any better ways to analyze our data?\n",
    "\n",
    "# Naive Bayes Classification\n",
    "\n",
    "A naive Bayes classifier might do much better here. It will certainly do a better job at catching words that are particularly favored by one of the authors. It can also try to find the relative weights of the different authors even on the unlabeled test set.\n",
    "\n",
    "### Document Term Frequency Matrix\n",
    "\n",
    "For this set, we will want to run a multinomial naive Bayes classifier on the term frequency matrix. The CountVectorizer in Scikit-learn is an easy way to generate a Scikit-learn-friendly term frequency matrix. We can also choose the range of n-grams to use and the minimum document frequency. I'll just set some numbers here. I'm still using the text after removing stop words and running the stemming algorithm, so it's likely that things like 3-grams are usually unique to a single document. It's quite likely that the data munging can be better tuned to this model."
   ]
  },
  {
   "cell_type": "code",
   "execution_count": 97,
   "metadata": {},
   "outputs": [
    {
     "data": {
      "text/plain": [
       "CountVectorizer(analyzer='word', binary=False, decode_error='strict',\n",
       "        dtype=<class 'numpy.int64'>, encoding='utf-8', input='content',\n",
       "        lowercase=True, max_df=1.0, max_features=None, min_df=2,\n",
       "        ngram_range=(1, 3), preprocessor=None, stop_words=None,\n",
       "        strip_accents=None, token_pattern='(?u)\\\\b\\\\w\\\\w+\\\\b',\n",
       "        tokenizer=None, vocabulary=None)"
      ]
     },
     "execution_count": 97,
     "metadata": {},
     "output_type": "execute_result"
    }
   ],
   "source": [
    "from sklearn.naive_bayes import MultinomialNB\n",
    "from sklearn.feature_extraction.text import CountVectorizer\n",
    "from sklearn.naive_bayes import BernoulliNB\n",
    "all_text_joined = [ ' '.join(text) for text in all_text]\n",
    "\n",
    "cvec = CountVectorizer(ngram_range=(1,3),min_df=2)\n",
    "cvec.fit(all_text_joined)"
   ]
  },
  {
   "cell_type": "markdown",
   "metadata": {},
   "source": [
    "### Preparing the Training and Test Sets\n",
    "\n",
    "As before, I'll package all the work into a short script to process the separate test and training sets."
   ]
  },
  {
   "cell_type": "code",
   "execution_count": 98,
   "metadata": {
    "collapsed": true
   },
   "outputs": [],
   "source": [
    "\n",
    "\n",
    "def prepare_text_counts(data):\n",
    "    data = [re.sub(r'[^a-z]',' ',text.lower()) for text in data]\n",
    "    data = [text.split() for text in data]\n",
    "    data = [nltk.pos_tag(text) for text in data]\n",
    "    data = [ [ (word[0],set_pos(word[1])) for word in \n",
    "                  text if word[0] not in stops] for text in data ]\n",
    "    data = [ [ wnlemma().lemmatize(word[0],pos=nltk.corpus.wordnet.VERB) \n",
    "              for word in text] for text in data]\n",
    "    data = [ ' '.join(text) for text in data]\n",
    "    data = cvec.transform(data)\n",
    "    return data\n",
    "    \n",
    "    "
   ]
  },
  {
   "cell_type": "code",
   "execution_count": 99,
   "metadata": {
    "collapsed": true
   },
   "outputs": [],
   "source": [
    "train_text = train['text']\n",
    "test_text = test['text']\n",
    "train_prep = prepare_text_counts(train_text)\n",
    "test_prep = prepare_text_counts(test_text)"
   ]
  },
  {
   "cell_type": "markdown",
   "metadata": {},
   "source": [
    "### Running the Multinomial NB Model\n",
    "\n",
    "There aren't too many options for the Scikit-learn naive Bayes model. I will optimize the smoothing parameter alpha, and use the default options for the others. Thus, this model will try to fit for the prior probabilities for the different authors (i.e. the relative normalizations)."
   ]
  },
  {
   "cell_type": "code",
   "execution_count": 100,
   "metadata": {},
   "outputs": [
    {
     "data": {
      "image/png": "[encoded data removed]",
      "text/plain": [
       "<matplotlib.figure.Figure at 0x7f083fb6ce10>"
      ]
     },
     "metadata": {},
     "output_type": "display_data"
    }
   ],
   "source": [
    "from sklearn.model_selection import validation_curve\n",
    "\n",
    "mnb = MultinomialNB(alpha=1)\n",
    "bnb = BernoulliNB(alpha=1,binarize=0.5)\n",
    "vals = np.logspace(-1,2,50)\n",
    "#vals = np.logspace(-1,0.3,50)\n",
    "train_scores,valid_scores = validation_curve(mnb,train_prep,\n",
    "                                             np.array(train_tgt),'alpha',\n",
    "                                             vals,cv=10,scoring=logloss_score)\n",
    "\n",
    "train_mean = -np.mean(train_scores,axis=1)\n",
    "valid_mean = -np.mean(valid_scores,axis=1)\n",
    "train_std = np.std(train_scores,axis=1)\n",
    "valid_std = np.std(valid_scores,axis=1)\n",
    "\n",
    "fig = plt.figure(1,(8,8))\n",
    "plt.plot(vals,train_mean,color='b',label='Training Scores')\n",
    "plt.fill_between(vals,train_mean-train_std,train_mean+train_std,facecolor='b',alpha=0.3)\n",
    "\n",
    "plt.plot(vals,valid_mean,color='r',label='Validation Scores')\n",
    "plt.fill_between(vals,valid_mean-valid_std,valid_mean+valid_std,facecolor='r',alpha=0.3)\n",
    "\n",
    "plt.legend()\n",
    "plt.ylabel('Log-Loss Score')\n",
    "plt.xlabel('Alpha')\n",
    "plt.xscale('log')\n",
    "plt.title('Validation Curves for Multinomial Naive Bayes')\n",
    "plt.show()"
   ]
  },
  {
   "cell_type": "markdown",
   "metadata": {},
   "source": [
    "We immediately see that the NB model is doing much better than the Random Forest even without doing any tuning. It's possible that a Random Forest using the TF matrix or TF-IDF matrix might outperform the NB model. I've tried doing some tests with a normalized TF matrix using a Random Forest but did not get any promising results for the different parameters that I tried. The NB also runs much faster. We get an optimum alpha of around 2 here, with a log-loss score of around 0.45. This is roughly an accuracy of 80%, as opposed to around 60% for our initial Random Forest model."
   ]
  }
 ],
 "metadata": {
  "kernelspec": {
   "display_name": "Python 3",
   "language": "python",
   "name": "python3"
  },
  "language_info": {
   "codemirror_mode": {
    "name": "ipython",
    "version": 3
   },
   "file_extension": ".py",
   "mimetype": "text/x-python",
   "name": "python",
   "nbconvert_exporter": "python",
   "pygments_lexer": "ipython3",
   "version": "3.6.1"
  }
 },
 "nbformat": 4,
 "nbformat_minor": 2
}
