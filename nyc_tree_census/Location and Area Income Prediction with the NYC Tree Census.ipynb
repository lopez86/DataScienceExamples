{
 "cells": [
  {
   "cell_type": "markdown",
   "metadata": {},
   "source": [
    "# Introduction\n",
    "\n",
    "I've already made several notebooks looking at the NYC 2015 Tree Census dataset. In this notebook, I'll start trying to do some more serious work at trying to extract meaningful results from this data. In particular, I'll look at two specific problems:\n",
    "\n",
    "  1) Can we predict the borough of a place in NYC just using the types of trees in the area?\n",
    "  \n",
    "  2) Do the trees tell us anything about things like the income of the area?\n",
    "  \n",
    "Basically, I want to see what something as mundane as the species of street trees might tell us about the urban environment. Are the boroughs distinct? Do certain trees appear in certain kinds of neighborhoods? Obviously, street trees are planted by the city, so someone is making these kinds of choices. But, without any specialized training in botany or in urban planning, can I discover these kinds of choices made by city planners? This sort of analysis is not just possible for trees. Any kind of geospatial data can be used. Things like what kinds of architecture appear in a neighborhood or what kinds of cars are parked on the street could also be used to ask similar questions. With the right data set, there may be many interesting insights for people such as urban planners and real estate analysts.\n",
    "\n",
    "Some techniques that I show here include:\n",
    "\n",
    "  - DataFrame Joins\n",
    "  - Data Aggregation (groupby)\n",
    "  - Count vectorization (i.e. Term Frequency matrix)\n",
    "  - Naive Bayes classification\n",
    "  - Singular value decomposition (SVD)\n",
    "  - Decision tree regression (including ensemble methods)\n",
    "\n",
    "# Data Preparation\n",
    "\n",
    "The data is in a CSV file, so we'll first read it in with pandas. Next, we'll extract the census tract, strip whitespace from the tree species names, and create a reduced DataFrame of living trees with their corresponding census tracts."
   ]
  },
  {
   "cell_type": "code",
   "execution_count": 2,
   "metadata": {
    "collapsed": true
   },
   "outputs": [],
   "source": [
    "import numpy as np\n",
    "import pandas as pd\n",
    "import matplotlib.pyplot as plt\n",
    "\n",
    "%matplotlib inline"
   ]
  },
  {
   "cell_type": "code",
   "execution_count": 3,
   "metadata": {},
   "outputs": [
    {
     "name": "stdout",
     "output_type": "stream",
     "text": [
      "<class 'pandas.core.frame.DataFrame'>\n",
      "RangeIndex: 683788 entries, 0 to 683787\n",
      "Data columns (total 41 columns):\n",
      "tree_id       683788 non-null int64\n",
      "block_id      683788 non-null int64\n",
      "created_at    683788 non-null object\n",
      "tree_dbh      683788 non-null int64\n",
      "stump_diam    683788 non-null int64\n",
      "curb_loc      683788 non-null object\n",
      "status        683788 non-null object\n",
      "health        652172 non-null object\n",
      "spc_latin     652169 non-null object\n",
      "spc_common    652169 non-null object\n",
      "steward       652173 non-null object\n",
      "guards        652172 non-null object\n",
      "sidewalk      652172 non-null object\n",
      "user_type     683788 non-null object\n",
      "problems      652124 non-null object\n",
      "root_stone    683788 non-null object\n",
      "root_grate    683788 non-null object\n",
      "root_other    683788 non-null object\n",
      "trunk_wire    683788 non-null object\n",
      "trnk_light    683788 non-null object\n",
      "trnk_other    683788 non-null object\n",
      "brch_light    683788 non-null object\n",
      "brch_shoe     683788 non-null object\n",
      "brch_other    683788 non-null object\n",
      "address       683788 non-null object\n",
      "zipcode       683788 non-null int64\n",
      "zip_city      683788 non-null object\n",
      "cb_num        683788 non-null int64\n",
      "borocode      683788 non-null int64\n",
      "boroname      683788 non-null object\n",
      "cncldist      683788 non-null int64\n",
      "st_assem      683788 non-null int64\n",
      "st_senate     683788 non-null int64\n",
      "nta           683788 non-null object\n",
      "nta_name      683788 non-null object\n",
      "boro_ct       683788 non-null int64\n",
      "state         683788 non-null object\n",
      "latitude      683788 non-null float64\n",
      "longitude     683788 non-null float64\n",
      "x_sp          683788 non-null float64\n",
      "y_sp          683788 non-null float64\n",
      "dtypes: float64(4), int64(11), object(26)\n",
      "memory usage: 213.9+ MB\n"
     ]
    }
   ],
   "source": [
    "trees = pd.read_csv(\"data/street_trees_2015.csv\")\n",
    "trees.info()"
   ]
  },
  {
   "cell_type": "code",
   "execution_count": 3,
   "metadata": {
    "collapsed": true
   },
   "outputs": [],
   "source": [
    "# Manhattan: 1, Bronx: 2, Brooklyn: 3, Queens: 4, Staten Island: 5\n",
    "boromap = {'1':'36061','2':'36005','3':'36047','4':'36081','5':'36085'}\n",
    "boromap_inv = {'36061':1,'36005':2,'36047':3,'36081':4,'36085':5}\n",
    "\n",
    "def get_tract(boro_ct):\n",
    "    boro_ct = str(boro_ct)\n",
    "    return int(boromap[boro_ct[0]] + boro_ct[1:])\n",
    "trees['tract'] = trees.boro_ct.map(get_tract)\n",
    "\n",
    "trees = trees[trees.status=='Alive']\n",
    "trees = trees[['spc_common','tract']]\n",
    "trees.spc_common = trees.spc_common.map(lambda x : str(x).replace(' ','_').replace('','') )"
   ]
  },
  {
   "cell_type": "markdown",
   "metadata": {},
   "source": [
    "# Census Data\n",
    "\n",
    "Now that we have a list of street trees, we also want to look at income. I have already prepared a census data file, so I can read it, reduce to just the tract ID and median household income. Finally, we will do an inner join with the trees DataFrame. This will leave us with a DataFrame in the form [tree, tract, tract_income]."
   ]
  },
  {
   "cell_type": "code",
   "execution_count": 4,
   "metadata": {},
   "outputs": [
    {
     "data": {
      "text/html": [
       "<div>\n",
       "<style>\n",
       "    .dataframe thead tr:only-child th {\n",
       "        text-align: right;\n",
       "    }\n",
       "\n",
       "    .dataframe thead th {\n",
       "        text-align: left;\n",
       "    }\n",
       "\n",
       "    .dataframe tbody tr th {\n",
       "        vertical-align: top;\n",
       "    }\n",
       "</style>\n",
       "<table border=\"1\" class=\"dataframe\">\n",
       "  <thead>\n",
       "    <tr style=\"text-align: right;\">\n",
       "      <th></th>\n",
       "      <th>CensusTract</th>\n",
       "      <th>County</th>\n",
       "      <th>Borough</th>\n",
       "      <th>TotalPop</th>\n",
       "      <th>Men</th>\n",
       "      <th>Women</th>\n",
       "      <th>Hispanic</th>\n",
       "      <th>White</th>\n",
       "      <th>Black</th>\n",
       "      <th>Native</th>\n",
       "      <th>...</th>\n",
       "      <th>Walk</th>\n",
       "      <th>OtherTransp</th>\n",
       "      <th>WorkAtHome</th>\n",
       "      <th>MeanCommute</th>\n",
       "      <th>Employed</th>\n",
       "      <th>PrivateWork</th>\n",
       "      <th>PublicWork</th>\n",
       "      <th>SelfEmployed</th>\n",
       "      <th>FamilyWork</th>\n",
       "      <th>Unemployment</th>\n",
       "    </tr>\n",
       "  </thead>\n",
       "  <tbody>\n",
       "    <tr>\n",
       "      <th>0</th>\n",
       "      <td>36005000100</td>\n",
       "      <td>Bronx</td>\n",
       "      <td>Bronx</td>\n",
       "      <td>7703</td>\n",
       "      <td>7133</td>\n",
       "      <td>570</td>\n",
       "      <td>29.9</td>\n",
       "      <td>6.1</td>\n",
       "      <td>60.9</td>\n",
       "      <td>0.2</td>\n",
       "      <td>...</td>\n",
       "      <td>NaN</td>\n",
       "      <td>NaN</td>\n",
       "      <td>NaN</td>\n",
       "      <td>NaN</td>\n",
       "      <td>0</td>\n",
       "      <td>NaN</td>\n",
       "      <td>NaN</td>\n",
       "      <td>NaN</td>\n",
       "      <td>NaN</td>\n",
       "      <td>NaN</td>\n",
       "    </tr>\n",
       "    <tr>\n",
       "      <th>1</th>\n",
       "      <td>36005000200</td>\n",
       "      <td>Bronx</td>\n",
       "      <td>Bronx</td>\n",
       "      <td>5403</td>\n",
       "      <td>2659</td>\n",
       "      <td>2744</td>\n",
       "      <td>75.8</td>\n",
       "      <td>2.3</td>\n",
       "      <td>16.0</td>\n",
       "      <td>0.0</td>\n",
       "      <td>...</td>\n",
       "      <td>2.9</td>\n",
       "      <td>0.0</td>\n",
       "      <td>0.0</td>\n",
       "      <td>43.0</td>\n",
       "      <td>2308</td>\n",
       "      <td>80.8</td>\n",
       "      <td>16.2</td>\n",
       "      <td>2.9</td>\n",
       "      <td>0.0</td>\n",
       "      <td>7.7</td>\n",
       "    </tr>\n",
       "    <tr>\n",
       "      <th>2</th>\n",
       "      <td>36005000400</td>\n",
       "      <td>Bronx</td>\n",
       "      <td>Bronx</td>\n",
       "      <td>5915</td>\n",
       "      <td>2896</td>\n",
       "      <td>3019</td>\n",
       "      <td>62.7</td>\n",
       "      <td>3.6</td>\n",
       "      <td>30.7</td>\n",
       "      <td>0.0</td>\n",
       "      <td>...</td>\n",
       "      <td>1.4</td>\n",
       "      <td>0.5</td>\n",
       "      <td>2.1</td>\n",
       "      <td>45.0</td>\n",
       "      <td>2675</td>\n",
       "      <td>71.7</td>\n",
       "      <td>25.3</td>\n",
       "      <td>2.5</td>\n",
       "      <td>0.6</td>\n",
       "      <td>9.5</td>\n",
       "    </tr>\n",
       "    <tr>\n",
       "      <th>3</th>\n",
       "      <td>36005001600</td>\n",
       "      <td>Bronx</td>\n",
       "      <td>Bronx</td>\n",
       "      <td>5879</td>\n",
       "      <td>2558</td>\n",
       "      <td>3321</td>\n",
       "      <td>65.1</td>\n",
       "      <td>1.6</td>\n",
       "      <td>32.4</td>\n",
       "      <td>0.0</td>\n",
       "      <td>...</td>\n",
       "      <td>8.6</td>\n",
       "      <td>1.6</td>\n",
       "      <td>1.7</td>\n",
       "      <td>38.8</td>\n",
       "      <td>2120</td>\n",
       "      <td>75.0</td>\n",
       "      <td>21.3</td>\n",
       "      <td>3.8</td>\n",
       "      <td>0.0</td>\n",
       "      <td>8.7</td>\n",
       "    </tr>\n",
       "    <tr>\n",
       "      <th>4</th>\n",
       "      <td>36005001900</td>\n",
       "      <td>Bronx</td>\n",
       "      <td>Bronx</td>\n",
       "      <td>2591</td>\n",
       "      <td>1206</td>\n",
       "      <td>1385</td>\n",
       "      <td>55.4</td>\n",
       "      <td>9.0</td>\n",
       "      <td>29.0</td>\n",
       "      <td>0.0</td>\n",
       "      <td>...</td>\n",
       "      <td>3.0</td>\n",
       "      <td>2.4</td>\n",
       "      <td>6.2</td>\n",
       "      <td>45.4</td>\n",
       "      <td>1083</td>\n",
       "      <td>76.8</td>\n",
       "      <td>15.5</td>\n",
       "      <td>7.7</td>\n",
       "      <td>0.0</td>\n",
       "      <td>19.2</td>\n",
       "    </tr>\n",
       "  </tbody>\n",
       "</table>\n",
       "<p>5 rows × 36 columns</p>\n",
       "</div>"
      ],
      "text/plain": [
       "   CensusTract County Borough  TotalPop   Men  Women  Hispanic  White  Black  \\\n",
       "0  36005000100  Bronx   Bronx      7703  7133    570      29.9    6.1   60.9   \n",
       "1  36005000200  Bronx   Bronx      5403  2659   2744      75.8    2.3   16.0   \n",
       "2  36005000400  Bronx   Bronx      5915  2896   3019      62.7    3.6   30.7   \n",
       "3  36005001600  Bronx   Bronx      5879  2558   3321      65.1    1.6   32.4   \n",
       "4  36005001900  Bronx   Bronx      2591  1206   1385      55.4    9.0   29.0   \n",
       "\n",
       "   Native      ...       Walk  OtherTransp  WorkAtHome  MeanCommute  Employed  \\\n",
       "0     0.2      ...        NaN          NaN         NaN          NaN         0   \n",
       "1     0.0      ...        2.9          0.0         0.0         43.0      2308   \n",
       "2     0.0      ...        1.4          0.5         2.1         45.0      2675   \n",
       "3     0.0      ...        8.6          1.6         1.7         38.8      2120   \n",
       "4     0.0      ...        3.0          2.4         6.2         45.4      1083   \n",
       "\n",
       "   PrivateWork  PublicWork  SelfEmployed  FamilyWork  Unemployment  \n",
       "0          NaN         NaN           NaN         NaN           NaN  \n",
       "1         80.8        16.2           2.9         0.0           7.7  \n",
       "2         71.7        25.3           2.5         0.6           9.5  \n",
       "3         75.0        21.3           3.8         0.0           8.7  \n",
       "4         76.8        15.5           7.7         0.0          19.2  \n",
       "\n",
       "[5 rows x 36 columns]"
      ]
     },
     "execution_count": 4,
     "metadata": {},
     "output_type": "execute_result"
    }
   ],
   "source": [
    "census = pd.read_csv('data/nyc_census_tracts.csv')\n",
    "census.head()"
   ]
  },
  {
   "cell_type": "code",
   "execution_count": 5,
   "metadata": {
    "collapsed": true
   },
   "outputs": [],
   "source": [
    "census = census.loc[pd.notnull(census.Income),['CensusTract','Income'] ]"
   ]
  },
  {
   "cell_type": "code",
   "execution_count": 6,
   "metadata": {},
   "outputs": [
    {
     "data": {
      "text/html": [
       "<div>\n",
       "<style>\n",
       "    .dataframe thead tr:only-child th {\n",
       "        text-align: right;\n",
       "    }\n",
       "\n",
       "    .dataframe thead th {\n",
       "        text-align: left;\n",
       "    }\n",
       "\n",
       "    .dataframe tbody tr th {\n",
       "        vertical-align: top;\n",
       "    }\n",
       "</style>\n",
       "<table border=\"1\" class=\"dataframe\">\n",
       "  <thead>\n",
       "    <tr style=\"text-align: right;\">\n",
       "      <th></th>\n",
       "      <th>tract</th>\n",
       "      <th>Income</th>\n",
       "      <th>spc_common</th>\n",
       "    </tr>\n",
       "  </thead>\n",
       "  <tbody>\n",
       "    <tr>\n",
       "      <th>0</th>\n",
       "      <td>36005000200</td>\n",
       "      <td>72034.0</td>\n",
       "      <td>American_linden</td>\n",
       "    </tr>\n",
       "    <tr>\n",
       "      <th>1</th>\n",
       "      <td>36005000200</td>\n",
       "      <td>72034.0</td>\n",
       "      <td>American_linden</td>\n",
       "    </tr>\n",
       "    <tr>\n",
       "      <th>2</th>\n",
       "      <td>36005000200</td>\n",
       "      <td>72034.0</td>\n",
       "      <td>silver_linden</td>\n",
       "    </tr>\n",
       "    <tr>\n",
       "      <th>3</th>\n",
       "      <td>36005000200</td>\n",
       "      <td>72034.0</td>\n",
       "      <td>silver_linden</td>\n",
       "    </tr>\n",
       "    <tr>\n",
       "      <th>4</th>\n",
       "      <td>36005000200</td>\n",
       "      <td>72034.0</td>\n",
       "      <td>silver_maple</td>\n",
       "    </tr>\n",
       "  </tbody>\n",
       "</table>\n",
       "</div>"
      ],
      "text/plain": [
       "         tract   Income       spc_common\n",
       "0  36005000200  72034.0  American_linden\n",
       "1  36005000200  72034.0  American_linden\n",
       "2  36005000200  72034.0    silver_linden\n",
       "3  36005000200  72034.0    silver_linden\n",
       "4  36005000200  72034.0     silver_maple"
      ]
     },
     "execution_count": 6,
     "metadata": {},
     "output_type": "execute_result"
    }
   ],
   "source": [
    "trees_census = pd.merge(census,trees,left_on='CensusTract',right_on='tract',copy=False)\n",
    "trees_census = trees_census[['tract','Income','spc_common']]\n",
    "trees_census.head()"
   ]
  },
  {
   "cell_type": "markdown",
   "metadata": {},
   "source": [
    "# Predicting Borough From Tree Distribution\n",
    "\n",
    "First, I'll try to use the tree information to predict the borough of a census tract. To do this, I need to aggregate the tree information for each census tract. This is easily done with the  DataFrame.groupby() function. My target will be the borough, so I'll also extract that from the tract."
   ]
  },
  {
   "cell_type": "code",
   "execution_count": 7,
   "metadata": {
    "collapsed": true
   },
   "outputs": [],
   "source": [
    "tract_list = []\n",
    "tract_trees = {'trees':[],'income':[],'boro':[]}\n",
    "boromap_inv = {'36061':1,'36005':2,'36047':3,'36081':4,'36085':5}\n",
    "\n",
    "for tract,group in trees_census.groupby('tract'):\n",
    "\n",
    "    tract_list.append(tract)\n",
    "    tract_trees['trees'].append(' '.join(list(group.spc_common)) )\n",
    "    tract_trees['income'].append(group.Income.mean())\n",
    "    tract_trees['boro'].append(boromap_inv[str(tract)[:5]])\n",
    "    \n",
    "tract_trees = pd.DataFrame(tract_trees,index=tract_list)"
   ]
  },
  {
   "cell_type": "code",
   "execution_count": 8,
   "metadata": {},
   "outputs": [
    {
     "data": {
      "text/html": [
       "<div>\n",
       "<style>\n",
       "    .dataframe thead tr:only-child th {\n",
       "        text-align: right;\n",
       "    }\n",
       "\n",
       "    .dataframe thead th {\n",
       "        text-align: left;\n",
       "    }\n",
       "\n",
       "    .dataframe tbody tr th {\n",
       "        vertical-align: top;\n",
       "    }\n",
       "</style>\n",
       "<table border=\"1\" class=\"dataframe\">\n",
       "  <thead>\n",
       "    <tr style=\"text-align: right;\">\n",
       "      <th></th>\n",
       "      <th>boro</th>\n",
       "      <th>income</th>\n",
       "      <th>trees</th>\n",
       "    </tr>\n",
       "  </thead>\n",
       "  <tbody>\n",
       "    <tr>\n",
       "      <th>36005000200</th>\n",
       "      <td>2</td>\n",
       "      <td>72034.0</td>\n",
       "      <td>American_linden American_linden silver_linden ...</td>\n",
       "    </tr>\n",
       "    <tr>\n",
       "      <th>36005000400</th>\n",
       "      <td>2</td>\n",
       "      <td>74836.0</td>\n",
       "      <td>red_maple Callery_pear red_maple Callery_pear ...</td>\n",
       "    </tr>\n",
       "    <tr>\n",
       "      <th>36005001600</th>\n",
       "      <td>2</td>\n",
       "      <td>32312.0</td>\n",
       "      <td>ginkgo cherry purple-leaf_plum pin_oak ginkgo ...</td>\n",
       "    </tr>\n",
       "    <tr>\n",
       "      <th>36005001900</th>\n",
       "      <td>2</td>\n",
       "      <td>37936.0</td>\n",
       "      <td>honeylocust honeylocust Sophora Callery_pear C...</td>\n",
       "    </tr>\n",
       "    <tr>\n",
       "      <th>36005002000</th>\n",
       "      <td>2</td>\n",
       "      <td>18086.0</td>\n",
       "      <td>sugar_maple sugar_maple London_planetree Calle...</td>\n",
       "    </tr>\n",
       "  </tbody>\n",
       "</table>\n",
       "</div>"
      ],
      "text/plain": [
       "             boro   income                                              trees\n",
       "36005000200     2  72034.0  American_linden American_linden silver_linden ...\n",
       "36005000400     2  74836.0  red_maple Callery_pear red_maple Callery_pear ...\n",
       "36005001600     2  32312.0  ginkgo cherry purple-leaf_plum pin_oak ginkgo ...\n",
       "36005001900     2  37936.0  honeylocust honeylocust Sophora Callery_pear C...\n",
       "36005002000     2  18086.0  sugar_maple sugar_maple London_planetree Calle..."
      ]
     },
     "execution_count": 8,
     "metadata": {},
     "output_type": "execute_result"
    }
   ],
   "source": [
    "tract_trees.head()"
   ]
  },
  {
   "cell_type": "markdown",
   "metadata": {},
   "source": [
    "To make the prediction, I'll create a pipeline that first runs the CountVectorizer() and then runs a Multinomial Naive Bayes classifier. I will use GridSearchCV to cross-validate the hyperparameters and then run the model on a separate test set.\n",
    "\n",
    "Why Naive Bayes? First, a multinomial distribution will be a natural way to represent the statistics related to CountVectorizer output. However, we have over 100 features and fewer than 3000 samples, so most classification methods are very likely to overfit. Naive Bayes models avoid this by treating each individual feature separately. It loses all information about correlations, but provides a nice out-of-the-box method that needs little tuning.\n",
    "\n",
    "I've purposely created the \"trees\" feature as a string so that I can make use of NLP techniques. Alternatively, I could have used a one-hot encoding with get_dummies() from pandas or OneHotEncoder in sklearn."
   ]
  },
  {
   "cell_type": "code",
   "execution_count": 9,
   "metadata": {
    "collapsed": true
   },
   "outputs": [],
   "source": [
    "from sklearn.model_selection import GridSearchCV\n",
    "from sklearn.model_selection import train_test_split\n",
    "\n",
    "from sklearn.feature_extraction.text import CountVectorizer\n",
    "from sklearn.naive_bayes import MultinomialNB\n",
    "from sklearn.pipeline import Pipeline"
   ]
  },
  {
   "cell_type": "code",
   "execution_count": 10,
   "metadata": {
    "collapsed": true
   },
   "outputs": [],
   "source": [
    "X = tract_trees['trees']\n",
    "y = tract_trees['boro']\n",
    "\n",
    "X_train,X_test,y_train,y_test = train_test_split(X,y,test_size=0.2,shuffle=True,random_state=432)\n",
    "\n",
    "cvec = CountVectorizer(token_pattern='\\S+')\n",
    "mnb = MultinomialNB()\n",
    "pipeline = Pipeline([['Counts',cvec],['NaiveBayes',mnb]])"
   ]
  },
  {
   "cell_type": "markdown",
   "metadata": {},
   "source": [
    "I'll do the cross validation on the minimum \"document\" (i.e. tract) frequency and on the regularization parameter of the NB model."
   ]
  },
  {
   "cell_type": "code",
   "execution_count": 11,
   "metadata": {
    "collapsed": true
   },
   "outputs": [],
   "source": [
    "params = {'Counts__min_df':np.linspace(0.001,.1,5),'NaiveBayes__alpha':np.logspace(-2,1,5)}\n",
    "gsv = GridSearchCV(pipeline,params,scoring='accuracy',cv=5)"
   ]
  },
  {
   "cell_type": "code",
   "execution_count": 12,
   "metadata": {},
   "outputs": [
    {
     "name": "stdout",
     "output_type": "stream",
     "text": [
      "{'Counts__min_df': 0.075250000000000011, 'NaiveBayes__alpha': 1.7782794100389228}\n",
      "0.683551847437\n"
     ]
    }
   ],
   "source": [
    "gsv.fit(X_train,y_train)\n",
    "\n",
    "print(gsv.best_params_)\n",
    "print(gsv.best_score_)"
   ]
  },
  {
   "cell_type": "markdown",
   "metadata": {},
   "source": [
    "It actually turns out that the accuracy score isn't particularly sensitive to these parameters. Now, I can see the results on the test set. I'll record the top two guesses, whether they are correct, and the probabilities."
   ]
  },
  {
   "cell_type": "code",
   "execution_count": 13,
   "metadata": {
    "collapsed": true
   },
   "outputs": [],
   "source": [
    "yprob = gsv.predict_proba(X_test)\n",
    "yguess = gsv.predict(X_test)"
   ]
  },
  {
   "cell_type": "code",
   "execution_count": 14,
   "metadata": {
    "collapsed": true
   },
   "outputs": [],
   "source": [
    "boropred = pd.DataFrame()\n",
    "boropred['truth'] = y_test\n",
    "for i in range(1,6):\n",
    "    boropred['prob{}'.format(i)] = yprob[:,i-1]\n",
    "boropred.index.name = 'tract'\n",
    "boropred['guess1'] = np.argmax(boropred.values[:,1:6],axis=1)+1\n",
    "boropred['guess2'] = np.argsort(boropred.values[:,1:6],axis=1)[:,3]+1\n",
    "boropred['corBest'] = (boropred.truth==boropred.guess1)\n",
    "boropred['corBest2'] = np.array(boropred.corBest) + np.array((boropred.truth==boropred.guess2))\n",
    "boropred['probBest'] = boropred.corBest * np.array([entry[entry[6]] for entry in boropred.values])\n",
    "boropred['probBest2'] = boropred.corBest2 * np.array(boropred.probBest) + np.array([entry[entry[7]] for entry in boropred.values])\n",
    "boropred.corBest = boropred.corBest*1\n",
    "boropred.corBest2 = boropred.corBest2*1\n",
    "\n",
    "#boropred['loglossBest'] = boropred.corBest *np.log(boropred.probBest+1e-10)\n",
    "#boropred['loglossBest2'] = boropred.corBest2 * np.log(boropred.probBest2+1e-10)"
   ]
  },
  {
   "cell_type": "code",
   "execution_count": 15,
   "metadata": {},
   "outputs": [
    {
     "name": "stdout",
     "output_type": "stream",
     "text": [
      "Weighted probability of top guess: 0.642545253704983\n",
      "Weighted probability of top 2 guesses: 0.6710937485724188\n"
     ]
    }
   ],
   "source": [
    "print('Weighted probability of top guess: {}'.format(boropred.probBest.mean()))\n",
    "print('Weighted probability of top 2 guesses: {}'.format(boropred.probBest2.mean()))"
   ]
  },
  {
   "cell_type": "markdown",
   "metadata": {},
   "source": [
    "It looks like we get the right answer almost 2/3 of the time! Adding the top two guesses in only slightly better, which is a bit surprising. However, we optimized the accuracy score, so maybe this is expected. If we look at the training data, we also see that the second guess has been overfit, so it provides little information to the test set."
   ]
  },
  {
   "cell_type": "code",
   "execution_count": 16,
   "metadata": {
    "collapsed": true
   },
   "outputs": [],
   "source": [
    "from sklearn.metrics import confusion_matrix\n",
    "from sklearn.metrics import classification_report\n"
   ]
  },
  {
   "cell_type": "markdown",
   "metadata": {},
   "source": [
    "Of course, the different boroughs are not equal. The number of census tracts is roughly proportional to the population, so Brooklyn and Queens will have the most tracts and Staten Island the least. We need to make sure that our classifier is not just trying to predict Brooklyn or Queens for nearly every entry. This is a good job for a classification matrix. I will plot the matrix, but after normalizing (1) the rows to see how a tree from a given borough is typically classified and (2) the columns to see where trees predicted to be in a particular borough are actually located."
   ]
  },
  {
   "cell_type": "code",
   "execution_count": 17,
   "metadata": {},
   "outputs": [
    {
     "data": {
      "image/png": "[encoded data removed]",
      "text/plain": [
       "<matplotlib.figure.Figure at 0x7f369be17550>"
      ]
     },
     "metadata": {},
     "output_type": "display_data"
    }
   ],
   "source": [
    "conf_mat = 1.0*(confusion_matrix(y_test,yguess))\n",
    "norms = np.sum(conf_mat,axis=1)\n",
    "for i in range(5):\n",
    "    conf_mat[i,:] = conf_mat[i,:]/norms[i]\n",
    "fig = plt.figure(1,figsize=(8,8))\n",
    "plt.imshow(conf_mat,cmap='jet')\n",
    "plt.xticks(np.arange(5),['Manhattan','Bronx','Brooklyn','Queens','Staten Island'])\n",
    "plt.yticks(np.arange(5),['Manhattan','Bronx','Brooklyn','Queens','Staten Island'],\n",
    "           rotation=90,rotation_mode='anchor',ha='center')\n",
    "plt.ylabel('True Borough')\n",
    "plt.xlabel('Predicted Borough')\n",
    "plt.title('Recall (Row normalized to 1)')\n",
    "cbar = plt.colorbar(shrink=0.85,pad=0.01)\n",
    "cbar.set_label('Fraction of True Values',rotation=270,labelpad=10)\n",
    "plt.show()"
   ]
  },
  {
   "cell_type": "markdown",
   "metadata": {},
   "source": [
    "Here, note that each row is normalized to 1. This shows us that we get trees in Staten Island right about 50% of the time but do substantially better for the other boroughs."
   ]
  },
  {
   "cell_type": "code",
   "execution_count": 18,
   "metadata": {},
   "outputs": [
    {
     "data": {
      "image/png": "[encoded data removed]",
      "text/plain": [
       "<matplotlib.figure.Figure at 0x7f369d655438>"
      ]
     },
     "metadata": {},
     "output_type": "display_data"
    }
   ],
   "source": [
    "conf_mat = 1.0*(confusion_matrix(y_test,yguess))\n",
    "norms = np.sum(conf_mat,axis=0)\n",
    "for i in range(5):\n",
    "    conf_mat[:,i] = conf_mat[:,i]/norms[i]\n",
    "fig = plt.figure(1,figsize=(8,8))\n",
    "plt.imshow(conf_mat,cmap='jet')\n",
    "plt.xticks(np.arange(5),['Manhattan','Bronx','Brooklyn','Queens','Staten Island'])\n",
    "plt.yticks(np.arange(5),['Manhattan','Bronx','Brooklyn','Queens','Staten Island'],\n",
    "           rotation=90,rotation_mode='anchor',ha='center')\n",
    "plt.ylabel('True Borough')\n",
    "plt.xlabel('Predicted Borough')\n",
    "plt.title('Precision (column normalized to 1)')\n",
    "cbar = plt.colorbar(shrink=0.85,pad=0.01)\n",
    "cbar.set_label('Fraction of Predicted Values',rotation=270,labelpad=10)\n",
    "plt.show()"
   ]
  },
  {
   "cell_type": "markdown",
   "metadata": {},
   "source": [
    "Here we see that while Manhattan had the best recall and Staten Island the worst, Staten Island has the best precision and the Bronx the worst. But even for the Bronx, the precision is over 40%, with the number well over 50% for the other boroughs."
   ]
  },
  {
   "cell_type": "markdown",
   "metadata": {},
   "source": [
    "# Mapping the Results\n",
    "\n",
    "Now, we should map the results. This requires running over the full dataset if we want to get a city-wide map. I'll first look at the confusion matrix as above and then I'll make the maps using my mapping & plotting tools."
   ]
  },
  {
   "cell_type": "code",
   "execution_count": 19,
   "metadata": {
    "collapsed": true
   },
   "outputs": [],
   "source": [
    "from nyc.mapping import CensusTractMapper\n",
    "from nyc.plotting import MapPlotter"
   ]
  },
  {
   "cell_type": "code",
   "execution_count": 20,
   "metadata": {
    "collapsed": true
   },
   "outputs": [],
   "source": [
    "yprob = gsv.predict_proba(X)\n",
    "yguess = gsv.predict(X)\n",
    "boropred = pd.DataFrame()\n",
    "boropred['truth'] = y\n",
    "for i in range(1,6):\n",
    "    boropred['prob{}'.format(i)] = yprob[:,i-1]\n",
    "boropred.index.name = 'tract'\n",
    "boropred['guess1'] = np.argmax(boropred.values[:,1:6],axis=1)+1\n",
    "boropred['guess2'] = np.argsort(boropred.values[:,1:6],axis=1)[:,3]+1\n",
    "boropred['corBest'] = (boropred.truth==boropred.guess1)\n",
    "boropred['corBest2'] = np.array(boropred.corBest) + np.array((boropred.truth==boropred.guess2))\n",
    "boropred['probBest'] = boropred.corBest * np.array([entry[entry[6]] for entry in boropred.values])\n",
    "boropred['probBest2'] = boropred.corBest2 * np.array(boropred.probBest) + np.array([entry[entry[7]] for entry in boropred.values])\n",
    "boropred.corBest = boropred.corBest*1\n",
    "boropred.corBest2 = boropred.corBest2*1"
   ]
  },
  {
   "cell_type": "code",
   "execution_count": 21,
   "metadata": {},
   "outputs": [
    {
     "data": {
      "image/png": "[encoded data removed]",
      "text/plain": [
       "<matplotlib.figure.Figure at 0x7f36d5158a20>"
      ]
     },
     "metadata": {},
     "output_type": "display_data"
    }
   ],
   "source": [
    "nm = CensusTractMapper(path='data/census_tracts.shp')\n",
    "mp = MapPlotter(nm)\n",
    "\n",
    "fig = plt.figure(1,figsize=[10,10])\n",
    "ax = fig.add_subplot(111)\n",
    "\n",
    "mp.plot(boropred['corBest'],ax=ax)\n",
    "mp.cbar.set_label('Correct Prediction',rotation=270,labelpad=10)\n",
    "plt.show()"
   ]
  },
  {
   "cell_type": "markdown",
   "metadata": {},
   "source": [
    "We can see that the places we get wrong don't look very random. There are a number of fairly compact clusters of tracts that are wrong, such as the upper tip of Staten Island, the Rockaways, Bushwick, Cypress Hills, and around Newtown Creek. Some of these are on the boundaries between two boroughs and others (like the area in Staten Island) are actually quite different from the rest of the borough.\n",
    "\n",
    "This very strongly suggests that the output of the Multinomial Naive Bayes classifier is really telling us something about the urban environment of the census tract.\n",
    "\n",
    "We can also look at the top two, but it turns out that the second highest probability is badly overfit."
   ]
  },
  {
   "cell_type": "markdown",
   "metadata": {},
   "source": [
    "# How Do Trees Relate to Census Demographic Information?\n",
    "\n",
    "So it turns out that we can do a decent job of predicting the NYC borough from what kinds of trees are nearby. Now, let's see if maybe we can predict the income of an area. "
   ]
  },
  {
   "cell_type": "code",
   "execution_count": 22,
   "metadata": {},
   "outputs": [
    {
     "data": {
      "text/html": [
       "<div>\n",
       "<style>\n",
       "    .dataframe thead tr:only-child th {\n",
       "        text-align: right;\n",
       "    }\n",
       "\n",
       "    .dataframe thead th {\n",
       "        text-align: left;\n",
       "    }\n",
       "\n",
       "    .dataframe tbody tr th {\n",
       "        vertical-align: top;\n",
       "    }\n",
       "</style>\n",
       "<table border=\"1\" class=\"dataframe\">\n",
       "  <thead>\n",
       "    <tr style=\"text-align: right;\">\n",
       "      <th></th>\n",
       "      <th>count</th>\n",
       "      <th>mean</th>\n",
       "      <th>median</th>\n",
       "      <th>std</th>\n",
       "    </tr>\n",
       "  </thead>\n",
       "  <tbody>\n",
       "    <tr>\n",
       "      <th>'Schubert'_chokecherry</th>\n",
       "      <td>4877</td>\n",
       "      <td>63225.344884</td>\n",
       "      <td>61458.0</td>\n",
       "      <td>24108.885999</td>\n",
       "    </tr>\n",
       "    <tr>\n",
       "      <th>American_beech</th>\n",
       "      <td>271</td>\n",
       "      <td>60290.634686</td>\n",
       "      <td>58553.0</td>\n",
       "      <td>24391.844176</td>\n",
       "    </tr>\n",
       "    <tr>\n",
       "      <th>American_elm</th>\n",
       "      <td>7425</td>\n",
       "      <td>59750.050101</td>\n",
       "      <td>53495.0</td>\n",
       "      <td>30173.653968</td>\n",
       "    </tr>\n",
       "    <tr>\n",
       "      <th>American_hophornbeam</th>\n",
       "      <td>1072</td>\n",
       "      <td>59936.013060</td>\n",
       "      <td>56089.5</td>\n",
       "      <td>25131.301563</td>\n",
       "    </tr>\n",
       "    <tr>\n",
       "      <th>American_hornbeam</th>\n",
       "      <td>1510</td>\n",
       "      <td>60557.745695</td>\n",
       "      <td>61217.0</td>\n",
       "      <td>25701.287657</td>\n",
       "    </tr>\n",
       "  </tbody>\n",
       "</table>\n",
       "</div>"
      ],
      "text/plain": [
       "                        count          mean   median           std\n",
       "'Schubert'_chokecherry   4877  63225.344884  61458.0  24108.885999\n",
       "American_beech            271  60290.634686  58553.0  24391.844176\n",
       "American_elm             7425  59750.050101  53495.0  30173.653968\n",
       "American_hophornbeam     1072  59936.013060  56089.5  25131.301563\n",
       "American_hornbeam        1510  60557.745695  61217.0  25701.287657"
      ]
     },
     "execution_count": 22,
     "metadata": {},
     "output_type": "execute_result"
    }
   ],
   "source": [
    "trees_income = {'mean':[],'median':[],'std':[],'count':[]}\n",
    "spc_list = []\n",
    "\n",
    "for spc,group in trees_census.groupby('spc_common'):\n",
    "    spc_list.append(spc)\n",
    "    trees_income['mean'].append(group.Income.mean())\n",
    "    trees_income['median'].append(group.Income.median())\n",
    "    trees_income['std'].append(group.Income.std())\n",
    "    trees_income['count'].append(group.Income.count())\n",
    "\n",
    "    \n",
    "trees_income = pd.DataFrame(trees_income,index=spc_list)\n",
    "trees_income.head()"
   ]
  },
  {
   "cell_type": "markdown",
   "metadata": {},
   "source": [
    "There is roughly a factor of 25 difference between the wealthiest and poorest census tracts, but the distribution is skewed. The peak is only around \\$50-\\$60k. We might expect that this search will be difficult but let's see what we can do anyway.\n",
    "\n",
    "To do the prediction, we'll first do some feature reduction. We're starting with over 100 features (i.e. species) but only around 2000 census tracts, so to do anything sensible, we could use fewer components. So, I'll first run the CountVectorizer, then a TruncatedSVD to use an unsupervised technique to find 20 smaller features. Finally, I'll test out a few different models to try to fit the data."
   ]
  },
  {
   "cell_type": "code",
   "execution_count": 23,
   "metadata": {
    "collapsed": true
   },
   "outputs": [],
   "source": [
    "from sklearn.decomposition import TruncatedSVD\n",
    "from sklearn.ensemble import RandomForestRegressor\n",
    "\n",
    "X = tract_trees.trees\n",
    "y = tract_trees.income\n",
    "\n",
    "# In the interest of time, just run the count vectorizer once\n",
    "cvec = CountVectorizer(min_df = 10,token_pattern='\\S+')\n",
    "X = cvec.fit_transform(X)\n",
    "\n",
    "\n",
    "X_train,X_test,y_train,y_test = train_test_split(X,y,test_size=0.2,shuffle=True,random_state=432)\n",
    "\n",
    "# \n",
    "svd = TruncatedSVD(n_components=20,random_state=5432)\n",
    "svd.fit(X_train)\n",
    "comp = svd.components_\n",
    "mapping = cvec.get_feature_names()\n",
    "X_train = svd.transform(X_train)\n",
    "X_test = svd.transform(X_test)"
   ]
  },
  {
   "cell_type": "code",
   "execution_count": 24,
   "metadata": {
    "collapsed": true
   },
   "outputs": [],
   "source": [
    "components = []\n",
    "\n",
    "for c in comp:\n",
    "    cmap = []\n",
    "    for idx,val in enumerate(c):\n",
    "        cmap.append( (val,mapping[idx]) )\n",
    "        cmap = sorted(cmap,key=lambda x: x[0] ,reverse=True)\n",
    "        cmap = cmap[:5] + cmap[-5:]\n",
    "    components.append(cmap)"
   ]
  },
  {
   "cell_type": "code",
   "execution_count": 25,
   "metadata": {},
   "outputs": [
    {
     "data": {
      "text/plain": [
       "[[(0.6290692273557843, 'callery_pear'),\n",
       "  (0.46085295099500451, 'london_planetree'),\n",
       "  (0.2908303477157333, 'pin_oak'),\n",
       "  (0.28495366292401891, 'honeylocust'),\n",
       "  (0.24520464913762527, 'norway_maple'),\n",
       "  (0.00025848282033059299, 'boxelder'),\n",
       "  (0.00022325883168995643, 'black_pine'),\n",
       "  (0.00019036771008284554, 'pitch_pine'),\n",
       "  (0.00015342690809005518, 'scots_pine'),\n",
       "  (0.00010611914614740529, 'osage-orange')],\n",
       " [(0.69155376611221253, 'callery_pear'),\n",
       "  (0.10166092089694606, 'red_maple'),\n",
       "  (0.08244567104787498, 'sweetgum'),\n",
       "  (0.036254030725650171, 'silver_maple'),\n",
       "  (0.021567569319008287, 'maple'),\n",
       "  (-0.09876331620469346, 'norway_maple'),\n",
       "  (-0.10799021082450085, 'littleleaf_linden'),\n",
       "  (-0.18244295519332793, 'pin_oak'),\n",
       "  (-0.18290978585896184, 'honeylocust'),\n",
       "  (-0.62467007834042376, 'london_planetree')],\n",
       " [(0.54080884979519217, 'london_planetree'),\n",
       "  (0.1422522170768335, 'callery_pear'),\n",
       "  (0.06389380460649946, 'red_maple'),\n",
       "  (0.04126145270367803, 'sweetgum'),\n",
       "  (0.039184011431674041, 'silver_maple'),\n",
       "  (-0.15397728477146305, 'sophora'),\n",
       "  (-0.16033921214068675, 'japanese_zelkova'),\n",
       "  (-0.1621008144290158, 'littleleaf_linden'),\n",
       "  (-0.23776123418275594, 'ginkgo'),\n",
       "  (-0.70712789683699029, 'honeylocust')],\n",
       " [(0.6484521989313683, 'pin_oak'),\n",
       "  (0.47741110533196818, 'norway_maple'),\n",
       "  (0.11364002420042787, 'silver_maple'),\n",
       "  (0.11213288720142524, 'red_maple'),\n",
       "  (0.10817020562181856, 'cherry'),\n",
       "  (-0.057873282835157393, 'ginkgo'),\n",
       "  (-0.059162172799129963, 'sophora'),\n",
       "  (-0.17621050018873338, 'callery_pear'),\n",
       "  (-0.31038324211535312, 'london_planetree'),\n",
       "  (-0.40349547989455575, 'honeylocust')],\n",
       " [(0.75203605917659699, 'norway_maple'),\n",
       "  (0.20448629158606929, 'ginkgo'),\n",
       "  (0.16875185557020661, 'green_ash'),\n",
       "  (0.069231324742103958, 'red_maple'),\n",
       "  (0.0597697448907724, 'crimson_king_maple'),\n",
       "  (-0.057346602598911944, 'purple-leaf_plum'),\n",
       "  (-0.069241944556495863, 'sophora'),\n",
       "  (-0.11817918014891221, 'japanese_zelkova'),\n",
       "  (-0.20529897846605283, 'cherry'),\n",
       "  (-0.51923881752275658, 'pin_oak')],\n",
       " [(0.76504999715563882, 'cherry'),\n",
       "  (0.22335012555548281, 'japanese_zelkova'),\n",
       "  (0.15649189193689636, 'littleleaf_linden'),\n",
       "  (0.13734277955318719, 'silver_maple'),\n",
       "  (0.12647887304200942, 'purple-leaf_plum'),\n",
       "  (-0.071905204342835163, 'honeylocust'),\n",
       "  (-0.078839474211755009, 'london_planetree'),\n",
       "  (-0.11574288497113379, 'callery_pear'),\n",
       "  (-0.2379888678253794, 'ginkgo'),\n",
       "  (-0.37981601932718384, 'pin_oak')],\n",
       " [(0.74105138573025975, 'ginkgo'),\n",
       "  (0.17991905225676574, 'cherry'),\n",
       "  (0.1519048673105243, 'japanese_zelkova'),\n",
       "  (0.11181690719734337, 'callery_pear'),\n",
       "  (0.09525670344036366, 'sophora'),\n",
       "  (-0.20425663665098021, 'red_maple'),\n",
       "  (-0.21088751728145863, 'silver_maple'),\n",
       "  (-0.24986796578665216, 'sweetgum'),\n",
       "  (-0.29414009130921021, 'green_ash'),\n",
       "  (-0.33183436088150192, 'honeylocust')],\n",
       " [(0.44798114978593939, 'ginkgo'),\n",
       "  (0.26538960617457236, 'red_maple'),\n",
       "  (0.26512017253555775, 'silver_maple'),\n",
       "  (0.26021005389892871, 'sweetgum'),\n",
       "  (0.25023367681168424, 'cherry'),\n",
       "  (-0.13322432673664927, 'american_linden'),\n",
       "  (-0.16485416353004784, 'callery_pear'),\n",
       "  (-0.19241283152066191, 'norway_maple'),\n",
       "  (-0.30470083909857532, 'japanese_zelkova'),\n",
       "  (-0.47789075259331631, 'littleleaf_linden')],\n",
       " [(0.6058769087524476, 'green_ash'),\n",
       "  (0.38446402981420125, 'littleleaf_linden'),\n",
       "  (0.29054563533795008, 'japanese_zelkova'),\n",
       "  (0.22959135507480932, 'sweetgum'),\n",
       "  (0.21164799832495401, 'maple'),\n",
       "  (-0.076577708028087499, 'callery_pear'),\n",
       "  (-0.097340617214342284, 'pin_oak'),\n",
       "  (-0.17582314244442782, 'cherry'),\n",
       "  (-0.21647462774817533, 'norway_maple'),\n",
       "  (-0.29270262333837577, 'honeylocust')],\n",
       " [(0.61436607950577016, 'green_ash'),\n",
       "  (0.30012486134302047, 'cherry'),\n",
       "  (0.096882161649269077, 'callery_pear'),\n",
       "  (0.076533419028582406, 'pin_oak'),\n",
       "  (0.036412711458161232, 'ash'),\n",
       "  (-0.090455048330187013, 'maple'),\n",
       "  (-0.15410025648505687, 'silver_maple'),\n",
       "  (-0.31978216932139614, 'sweetgum'),\n",
       "  (-0.34618575430745241, 'japanese_zelkova'),\n",
       "  (-0.48232550758257509, 'red_maple')],\n",
       " [(0.65194739095895715, 'littleleaf_linden'),\n",
       "  (0.21351475331541003, 'maple'),\n",
       "  (0.11230414121039721, 'silver_maple'),\n",
       "  (0.092109799735365955, 'red_maple'),\n",
       "  (0.09062327706445733, 'american_linden'),\n",
       "  (-0.083316884202511113, 'sweetgum'),\n",
       "  (-0.091015324635840916, 'norway_maple'),\n",
       "  (-0.21023870657239546, 'sophora'),\n",
       "  (-0.21850235642113858, 'green_ash'),\n",
       "  (-0.59970631649723793, 'japanese_zelkova')],\n",
       " [(0.79782586483116558, 'maple'),\n",
       "  (0.23618024369140092, 'japanese_zelkova'),\n",
       "  (0.21727190333808097, 'ash'),\n",
       "  (0.066180343764955199, 'norway_maple'),\n",
       "  (0.027790567208061487, 'honeylocust'),\n",
       "  (-0.093820821574296956, 'american_elm'),\n",
       "  (-0.09632778424888408, 'silver_maple'),\n",
       "  (-0.12439398345689638, 'sophora'),\n",
       "  (-0.13813124291204396, 'littleleaf_linden'),\n",
       "  (-0.42036233943921814, 'sweetgum')],\n",
       " [(0.3393186191075791, 'japanese_zelkova'),\n",
       "  (0.16846461035954621, 'silver_maple'),\n",
       "  (0.11205703099698641, 'sweetgum'),\n",
       "  (0.10329154777013068, 'ginkgo'),\n",
       "  (0.07085860259370555, 'honeylocust'),\n",
       "  (-0.096938063074678157, 'chinese_elm'),\n",
       "  (-0.15057692929030272, 'maple'),\n",
       "  (-0.21691108190078653, 'red_maple'),\n",
       "  (-0.2519995913423772, 'american_elm'),\n",
       "  (-0.80927314016648633, 'sophora')],\n",
       " [(0.5943396857060077, 'american_elm'),\n",
       "  (0.38893719986453135, 'red_maple'),\n",
       "  (0.22799444251919229, 'american_linden'),\n",
       "  (0.14844662805420794, 'northern_red_oak'),\n",
       "  (0.10996376219128166, 'sawtooth_oak'),\n",
       "  (-0.080548565305596009, 'norway_maple'),\n",
       "  (-0.096923861309650028, 'littleleaf_linden'),\n",
       "  (-0.18106090140106706, 'maple'),\n",
       "  (-0.3615286003433032, 'sophora'),\n",
       "  (-0.43399428283081282, 'sweetgum')],\n",
       " [(0.6209171396082247, 'american_elm'),\n",
       "  (0.35111265469705155, 'sweetgum'),\n",
       "  (0.22501661543427118, 'maple'),\n",
       "  (0.20963157928930687, 'northern_red_oak'),\n",
       "  (0.154700468435092, 'silver_maple'),\n",
       "  (-0.065017065473579896, 'eastern_redbud'),\n",
       "  (-0.066874774600760592, 'sophora'),\n",
       "  (-0.07181147684268116, 'ginkgo'),\n",
       "  (-0.15414548334019362, 'green_ash'),\n",
       "  (-0.53046606719268607, 'red_maple')],\n",
       " [(0.81120841543417177, 'silver_maple'),\n",
       "  (0.22656746574263062, 'sophora'),\n",
       "  (0.15738924602905613, 'crimson_king_maple'),\n",
       "  (0.097891086939233207, 'silver_linden'),\n",
       "  (0.062849404099684841, 'japanese_zelkova'),\n",
       "  (-0.075871053308619568, 'purple-leaf_plum'),\n",
       "  (-0.11155852067725114, 'maple'),\n",
       "  (-0.11603967346954996, 'cherry'),\n",
       "  (-0.14425523600575824, 'red_maple'),\n",
       "  (-0.39685132006709972, 'sweetgum')],\n",
       " [(0.91475655178888526, 'american_linden'),\n",
       "  (0.098048406397327759, 'sweetgum'),\n",
       "  (0.051677279709111179, 'silver_linden'),\n",
       "  (0.040776844129334765, \"'schubert'_chokecherry\"),\n",
       "  (0.040776844129334765, \"'schubert'_chokecherry\"),\n",
       "  (-0.087507143492426456, 'crimson_king_maple'),\n",
       "  (-0.098083791358181974, 'japanese_zelkova'),\n",
       "  (-0.099010470478404333, 'red_maple'),\n",
       "  (-0.22351221735388338, 'littleleaf_linden'),\n",
       "  (-0.22384605107134037, 'american_elm')],\n",
       " [(0.59892108910300779, 'crimson_king_maple'),\n",
       "  (0.19424335632068945, 'american_elm'),\n",
       "  (0.14495762226290404, 'silver_linden'),\n",
       "  (0.14324656312603173, 'purple-leaf_plum'),\n",
       "  (0.086628964872797129, 'american_linden'),\n",
       "  (-0.054499604664605225, 'chinese_elm'),\n",
       "  (-0.072317466252068724, 'red_maple'),\n",
       "  (-0.08426457813956828, 'silver_maple'),\n",
       "  (-0.088235772030735002, 'cherry'),\n",
       "  (-0.68720346308079883, 'northern_red_oak')],\n",
       " [(0.61661814407096971, 'swamp_white_oak'),\n",
       "  (0.50844851876902875, 'crimson_king_maple'),\n",
       "  (0.38356106166590898, 'northern_red_oak'),\n",
       "  (0.16985826421120606, 'chinese_elm'),\n",
       "  (0.13768444330474197, 'silver_linden'),\n",
       "  (-0.06945706294995628, 'japanese_zelkova'),\n",
       "  (-0.070595958854133126, 'sophora'),\n",
       "  (-0.072966189376903912, 'purple-leaf_plum'),\n",
       "  (-0.13286491411646353, 'silver_maple'),\n",
       "  (-0.17540508918180661, 'american_elm')],\n",
       " [(0.43847353777761039, 'crimson_king_maple'),\n",
       "  (0.18434904916704223, 'northern_red_oak'),\n",
       "  (0.11376338083236791, 'american_linden'),\n",
       "  (0.082429976610220751, 'littleleaf_linden'),\n",
       "  (0.076130245735188798, \"'schubert'_chokecherry\"),\n",
       "  (-0.10484593559473877, 'kentucky_coffeetree'),\n",
       "  (-0.12265003219231919, 'hawthorn'),\n",
       "  (-0.31530110556871205, 'swamp_white_oak'),\n",
       "  (-0.33090183407660118, 'purple-leaf_plum'),\n",
       "  (-0.66918255289286888, 'silver_linden')]]"
      ]
     },
     "execution_count": 25,
     "metadata": {},
     "output_type": "execute_result"
    }
   ],
   "source": [
    "components"
   ]
  },
  {
   "cell_type": "code",
   "execution_count": 26,
   "metadata": {
    "collapsed": true
   },
   "outputs": [],
   "source": [
    "from sklearn.linear_model import LinearRegression\n",
    "from sklearn.ensemble import AdaBoostRegressor\n",
    "from sklearn.tree import DecisionTreeRegressor\n",
    "\n",
    "dtr = DecisionTreeRegressor(max_depth=3)\n",
    "abr = AdaBoostRegressor(dtr,n_estimators=5000,learning_rate=0.0001,random_state=8439)\n",
    "#abr.fit(X_train,y_train)\n",
    "rfr = RandomForestRegressor(n_estimators=500,min_samples_leaf=15,max_depth=10)\n",
    "#lr = LinearRegression()\n",
    "#lr.fit(X_train,y_train)\n",
    "rfr.fit(X_train,y_train)\n",
    "y_predtrain = rfr.predict(X_train)\n",
    "y_predtest = rfr.predict(X_test)"
   ]
  },
  {
   "cell_type": "code",
   "execution_count": 27,
   "metadata": {},
   "outputs": [
    {
     "name": "stdout",
     "output_type": "stream",
     "text": [
      "R2 Score, Training Set: 0.492\n",
      "R2 Score, Test Set: 0.25\n"
     ]
    }
   ],
   "source": [
    "from sklearn import metrics\n",
    "\n",
    "R2train = metrics.r2_score(y_train,y_predtrain)\n",
    "R2test = metrics.r2_score(y_test,y_predtest)\n",
    "print('R2 Score, Training Set: {:0.3}'.format(R2train))\n",
    "print('R2 Score, Test Set: {:0.3}'.format(R2test))"
   ]
  },
  {
   "cell_type": "markdown",
   "metadata": {},
   "source": [
    "I haven't done a detailed study, but the best model I've found so far is a Random Forest decision tree regressor. But, I see that I'm still overfitting and also only get an R^2 score of 0.25. Evidently, it's not so easy to get income from the tree features. While I haven't fully optimized everything, this suggests that there is at best a weak correlation. This is also complicated by the fact that we've already seen that tree species are likely highly correlated with the characteristics of the surrounding urban environment.\n",
    "\n",
    "One last test I'll do here is to us ea TfidfVectorizer instead of the CountVectorizer. This will de-emphasize the effects of the most common trees."
   ]
  },
  {
   "cell_type": "code",
   "execution_count": 28,
   "metadata": {
    "collapsed": true
   },
   "outputs": [],
   "source": [
    "from sklearn.feature_extraction.text import TfidfVectorizer\n",
    "\n",
    "X = tract_trees.trees\n",
    "y = tract_trees.income\n",
    "tfidf = TfidfVectorizer(min_df = 5,token_pattern='\\S+')\n",
    "X = tfidf.fit_transform(X)\n",
    "X_train,X_test,y_train,y_test = train_test_split(X,y,test_size=0.2,shuffle=True,random_state=432)\n",
    "svd = TruncatedSVD(n_components=20,random_state=5432)\n",
    "svd.fit(X_train)\n",
    "comp = svd.components_\n",
    "mapping = tfidf.get_feature_names()\n",
    "X_train = svd.transform(X_train)\n",
    "X_test = svd.transform(X_test)"
   ]
  },
  {
   "cell_type": "code",
   "execution_count": 29,
   "metadata": {},
   "outputs": [
    {
     "data": {
      "text/plain": [
       "[[(0.55308582981116772, 'london_planetree'),\n",
       "  (0.42156641907541648, 'honeylocust'),\n",
       "  (0.33037233996002618, 'pin_oak'),\n",
       "  (0.28616095400305397, 'callery_pear'),\n",
       "  (0.22203601987131655, 'norway_maple'),\n",
       "  (0.0010270041575303132, 'pitch_pine'),\n",
       "  (0.00088529847338691394, 'osage-orange'),\n",
       "  (0.0008788689672463441, 'scots_pine'),\n",
       "  (0.00060731112959108756, 'virginia_pine'),\n",
       "  (0.00022230311978342919, 'nan')],\n",
       " [(0.69518538220945392, 'london_planetree'),\n",
       "  (0.15617414575804764, 'norway_maple'),\n",
       "  (0.059598228801076125, 'silver_maple'),\n",
       "  (0.038139867903918052, 'crimson_king_maple'),\n",
       "  (0.023827200581944204, 'sycamore_maple'),\n",
       "  (-0.13078793548335238, 'japanese_zelkova'),\n",
       "  (-0.15595987675117279, 'sophora'),\n",
       "  (-0.17444090935310544, 'ginkgo'),\n",
       "  (-0.1892628297191799, 'callery_pear'),\n",
       "  (-0.59509147464823375, 'honeylocust')],\n",
       " [(0.4921057075909307, 'pin_oak'),\n",
       "  (0.334567233743498, 'norway_maple'),\n",
       "  (0.2908709798844164, 'cherry'),\n",
       "  (0.19303791278944177, 'callery_pear'),\n",
       "  (0.15609019655151826, 'silver_maple'),\n",
       "  (-0.0098062516104008342, 'american_elm'),\n",
       "  (-0.078396717755709458, 'sophora'),\n",
       "  (-0.091259953080945547, 'ginkgo'),\n",
       "  (-0.43581794530862855, 'honeylocust'),\n",
       "  (-0.44019740330762819, 'london_planetree')],\n",
       " [(0.73049085032242567, 'pin_oak'),\n",
       "  (0.082508683966805677, 'northern_red_oak'),\n",
       "  (0.066894222402839806, 'swamp_white_oak'),\n",
       "  (0.056855288728014014, 'american_elm'),\n",
       "  (0.055479489952994371, 'honeylocust'),\n",
       "  (-0.13189232048351709, 'red_maple'),\n",
       "  (-0.13413613763234153, 'silver_maple'),\n",
       "  (-0.22528457012659087, 'norway_maple'),\n",
       "  (-0.23862734254931336, 'cherry'),\n",
       "  (-0.51588048136851106, 'callery_pear')],\n",
       " [(0.60874897343951495, 'callery_pear'),\n",
       "  (0.32569165875723172, 'ginkgo'),\n",
       "  (0.19037538294475242, 'pin_oak'),\n",
       "  (0.12202610113476162, 'sophora'),\n",
       "  (0.095787835696795637, 'london_planetree'),\n",
       "  (-0.11478400280570414, 'silver_maple'),\n",
       "  (-0.15860309820986962, 'green_ash'),\n",
       "  (-0.17385496772694792, 'cherry'),\n",
       "  (-0.35101172256155255, 'honeylocust'),\n",
       "  (-0.48247437189252068, 'norway_maple')],\n",
       " [(0.53089654062925251, 'japanese_zelkova'),\n",
       "  (0.47173925018866308, 'cherry'),\n",
       "  (0.14679192240072297, 'sophora'),\n",
       "  (0.11914815377456144, 'swamp_white_oak'),\n",
       "  (0.11234130732848906, 'japanese_tree_lilac'),\n",
       "  (-0.11750443653234707, 'ginkgo'),\n",
       "  (-0.14399611242571722, 'pin_oak'),\n",
       "  (-0.19276901575646727, 'honeylocust'),\n",
       "  (-0.23266902372829038, 'callery_pear'),\n",
       "  (-0.42188156679826849, 'norway_maple')],\n",
       " [(0.54190590773333935, 'ginkgo'),\n",
       "  (0.37704562611408343, 'littleleaf_linden'),\n",
       "  (0.29420340037927351, 'norway_maple'),\n",
       "  (0.26058582640082972, 'japanese_zelkova'),\n",
       "  (0.17250310529044979, 'green_ash'),\n",
       "  (-0.14154347008556384, 'maple'),\n",
       "  (-0.16927307770226133, 'pin_oak'),\n",
       "  (-0.19710463376396956, 'callery_pear'),\n",
       "  (-0.2686826645972768, 'cherry'),\n",
       "  (-0.31660609856601279, 'honeylocust')],\n",
       " [(0.66824395847012741, 'ginkgo'),\n",
       "  (0.43025653056091773, 'cherry'),\n",
       "  (0.1045341848357382, 'hawthorn'),\n",
       "  (0.08491862305172232, 'silver_maple'),\n",
       "  (0.073649116670556056, \"'schubert'_chokecherry\"),\n",
       "  (-0.10083696525030836, 'american_linden'),\n",
       "  (-0.16361339537499553, 'green_ash'),\n",
       "  (-0.26573622038410916, 'callery_pear'),\n",
       "  (-0.31200218758424725, 'littleleaf_linden'),\n",
       "  (-0.31228877859144022, 'japanese_zelkova')],\n",
       " [(0.57327663157001763, 'littleleaf_linden'),\n",
       "  (0.37653675168559597, 'green_ash'),\n",
       "  (0.22481101168676826, 'maple'),\n",
       "  (0.19302746011714023, 'cherry'),\n",
       "  (0.16309350498509037, 'american_linden'),\n",
       "  (-0.068234228077748274, 'silver_maple'),\n",
       "  (-0.077606401797686436, 'northern_red_oak'),\n",
       "  (-0.08505696293567605, 'red_maple'),\n",
       "  (-0.3417732520414542, 'norway_maple'),\n",
       "  (-0.49919354064552401, 'japanese_zelkova')],\n",
       " [(0.77161247840239522, 'green_ash'),\n",
       "  (0.33706022710386213, 'sophora'),\n",
       "  (0.11382142490426378, 'maple'),\n",
       "  (0.075973943202881894, 'chinese_elm'),\n",
       "  (0.054364734022079211, 'red_maple'),\n",
       "  (-0.062652180466398907, 'honeylocust'),\n",
       "  (-0.070150786368648757, 'willow_oak'),\n",
       "  (-0.070657624739149924, 'silver_linden'),\n",
       "  (-0.19550207699657776, 'american_linden'),\n",
       "  (-0.43941486069021651, 'littleleaf_linden')],\n",
       " [(0.84748199192738294, 'american_elm'),\n",
       "  (0.19883052727605874, 'red_maple'),\n",
       "  (0.15900942926850414, 'northern_red_oak'),\n",
       "  (0.14417952957360547, 'chinese_elm'),\n",
       "  (0.13281118795776564, 'siberian_elm'),\n",
       "  (-0.067468657947387004, 'cherry'),\n",
       "  (-0.067495845775797481, 'pin_oak'),\n",
       "  (-0.115272800854385, 'littleleaf_linden'),\n",
       "  (-0.18025803317798286, 'sophora'),\n",
       "  (-0.22112459607226284, 'japanese_zelkova')],\n",
       " [(0.74417920982813368, 'sophora'),\n",
       "  (0.10754359327606525, 'norway_maple'),\n",
       "  (0.10419623818169391, 'american_elm'),\n",
       "  (0.079739263567473406, 'cherry'),\n",
       "  (0.071752985802296679, 'littleleaf_linden'),\n",
       "  (-0.079491342558836775, 'red_maple'),\n",
       "  (-0.19259608539596615, 'green_ash'),\n",
       "  (-0.24137124634864782, 'ginkgo'),\n",
       "  (-0.36570870950334627, 'japanese_zelkova'),\n",
       "  (-0.37322734159237908, 'maple')],\n",
       " [(0.82396624881403113, 'maple'),\n",
       "  (0.37179981873878504, 'sophora'),\n",
       "  (0.10678540261338167, 'red_maple'),\n",
       "  (0.089489046812145381, 'norway_maple'),\n",
       "  (0.050975914843973472, 'crimson_king_maple'),\n",
       "  (-0.051203344461798139, 'japanese_tree_lilac'),\n",
       "  (-0.078274650072110458, 'swamp_white_oak'),\n",
       "  (-0.12987899672190725, 'callery_pear'),\n",
       "  (-0.16259252041715896, 'cherry'),\n",
       "  (-0.28816971473344466, 'green_ash')],\n",
       " [(0.46832110433687452, 'red_maple'),\n",
       "  (0.42636454257456724, 'sweetgum'),\n",
       "  (0.32658250026480878, 'swamp_white_oak'),\n",
       "  (0.22168735495652175, 'silver_maple'),\n",
       "  (0.21716079210205452, 'northern_red_oak'),\n",
       "  (-0.11585915187341833, 'callery_pear'),\n",
       "  (-0.13979178521822866, 'japanese_zelkova'),\n",
       "  (-0.15478828069525982, 'norway_maple'),\n",
       "  (-0.18103200001137204, 'cherry'),\n",
       "  (-0.36634441895447079, 'american_elm')],\n",
       " [(0.39528951753033981, 'silver_maple'),\n",
       "  (0.30160336012675054, 'littleleaf_linden'),\n",
       "  (0.257564737126457, 'red_maple'),\n",
       "  (0.20446217558076044, 'sweetgum'),\n",
       "  (0.14248957002161736, 'crimson_king_maple'),\n",
       "  (-0.16493818049881831, 'willow_oak'),\n",
       "  (-0.19940571231947332, 'norway_maple'),\n",
       "  (-0.22592200851388633, 'northern_red_oak'),\n",
       "  (-0.24056812300356972, 'swamp_white_oak'),\n",
       "  (-0.54946480130251596, 'american_linden')],\n",
       " [(0.66785074428220959, 'northern_red_oak'),\n",
       "  (0.1516795508214468, 'silver_maple'),\n",
       "  (0.14542294167392025, 'swamp_white_oak'),\n",
       "  (0.14119313105859779, 'sweetgum'),\n",
       "  (0.12432875896563007, 'maple'),\n",
       "  (-0.097026965570365317, 'common_hackberry'),\n",
       "  (-0.11252619443161747, 'hedge_maple'),\n",
       "  (-0.31085945728114212, 'chinese_elm'),\n",
       "  (-0.33626133053229257, 'american_linden'),\n",
       "  (-0.33765672230797272, 'red_maple')],\n",
       " [(0.55690636653294356, 'american_linden'),\n",
       "  (0.34254457406928956, 'silver_maple'),\n",
       "  (0.17839426644467624, 'northern_red_oak'),\n",
       "  (0.11012028727903658, 'japanese_zelkova'),\n",
       "  (0.083065890721203142, 'sophora'),\n",
       "  (-0.12074555097718481, 'littleleaf_linden'),\n",
       "  (-0.12776144025507247, 'common_hackberry'),\n",
       "  (-0.13516958950196128, 'norway_maple'),\n",
       "  (-0.34975147235840737, 'chinese_elm'),\n",
       "  (-0.48068308548745575, 'swamp_white_oak')],\n",
       " [(0.47398610053429746, 'northern_red_oak'),\n",
       "  (0.39862722661386629, 'red_maple'),\n",
       "  (0.20654721335313492, 'chinese_elm'),\n",
       "  (0.20061760473992368, 'willow_oak'),\n",
       "  (0.11460821866425742, 'cherry'),\n",
       "  (-0.15483585424658286, 'american_linden'),\n",
       "  (-0.21062465967699129, 'silver_linden'),\n",
       "  (-0.26594997361296546, 'silver_maple'),\n",
       "  (-0.33591310199479474, 'sweetgum'),\n",
       "  (-0.35201452844713138, 'swamp_white_oak')],\n",
       " [(0.74962634157375552, 'willow_oak'),\n",
       "  (0.19070104923936004, 'sawtooth_oak'),\n",
       "  (0.075842146860595996, 'shingle_oak'),\n",
       "  (0.073966036970203597, 'swamp_white_oak'),\n",
       "  (0.072707240194340259, 'ash'),\n",
       "  (-0.097384206315708502, 'japanese_tree_lilac'),\n",
       "  (-0.13327338508895178, 'american_linden'),\n",
       "  (-0.16607344850314432, 'silver_linden'),\n",
       "  (-0.23035828142895939, 'northern_red_oak'),\n",
       "  (-0.47068375050853495, 'chinese_elm')],\n",
       " [(0.49861479675887027, 'silver_maple'),\n",
       "  (0.38333035051731845, 'chinese_elm'),\n",
       "  (0.33388765741176823, 'willow_oak'),\n",
       "  (0.21160682811545789, 'silver_linden'),\n",
       "  (0.15464080631276317, 'swamp_white_oak'),\n",
       "  (-0.12475497421205331, 'common_hackberry'),\n",
       "  (-0.13593235414930419, 'hawthorn'),\n",
       "  (-0.16634579668930141, 'kentucky_coffeetree'),\n",
       "  (-0.20402155719895315, 'red_maple'),\n",
       "  (-0.42982343153179015, 'sweetgum')]]"
      ]
     },
     "execution_count": 29,
     "metadata": {},
     "output_type": "execute_result"
    }
   ],
   "source": [
    "components = []\n",
    "\n",
    "for c in comp:\n",
    "    cmap = []\n",
    "    for idx,val in enumerate(c):\n",
    "        cmap.append( (val,mapping[idx]) )\n",
    "        cmap = sorted(cmap,key=lambda x: x[0] ,reverse=True)\n",
    "        cmap = cmap[:5] + cmap[-5:]\n",
    "    components.append(cmap)\n",
    "components"
   ]
  },
  {
   "cell_type": "code",
   "execution_count": 30,
   "metadata": {},
   "outputs": [
    {
     "name": "stdout",
     "output_type": "stream",
     "text": [
      "R2 Score, Training Set: 0.487\n",
      "R2 Score, Test Set: 0.232\n"
     ]
    }
   ],
   "source": [
    "dtr = DecisionTreeRegressor(max_depth=3)\n",
    "#abr = AdaBoostRegressor(dtr,n_estimators=5000,learning_rate=0.0001,random_state=8439)\n",
    "#abr.fit(X_train,y_train)\n",
    "rfr = RandomForestRegressor(n_estimators=500,min_samples_leaf=15,max_depth=10)\n",
    "#lr = LinearRegression()\n",
    "#lr.fit(X_train,y_train)\n",
    "rfr.fit(X_train,y_train)\n",
    "y_predtrain = rfr.predict(X_train)\n",
    "y_predtest = rfr.predict(X_test)\n",
    "R2train = metrics.r2_score(y_train,y_predtrain)\n",
    "R2test = metrics.r2_score(y_test,y_predtest)\n",
    "print('R2 Score, Training Set: {:0.3}'.format(R2train))\n",
    "print('R2 Score, Test Set: {:0.3}'.format(R2test))"
   ]
  },
  {
   "cell_type": "markdown",
   "metadata": {},
   "source": [
    "We get very similar scores compared to before. Again, I haven't been too systematic at searching for optimal hyperparameters but this suggests that at most a weak correlation might exist. This might actually be a good thing, since it means that wealther areas don't have a monopoly on the nicest trees."
   ]
  },
  {
   "cell_type": "markdown",
   "metadata": {
    "collapsed": true
   },
   "source": [
    "# Conclusions\n",
    "\n",
    "We've seen that a simple Naive Bayes classifier is effective at predicting what borough a census tract is located in based on the trees found in the neighborhood. We've also looked at how the trees might be related to neighborhood income, but a preliminary test suggests that the correlation is likely quite weak. Furthermore, because of the large differences even between the boroughs, it will almost certainly be too difficult to separate out all the different possible effects going into income.\n",
    "\n",
    "Hopefully this notebook has convinced you that analyzing geospatial data such as this could give us interesting insights into our urban environments. "
   ]
  },
  {
   "cell_type": "code",
   "execution_count": null,
   "metadata": {
    "collapsed": true
   },
   "outputs": [],
   "source": []
  }
 ],
 "metadata": {
  "kernelspec": {
   "display_name": "Python 3",
   "language": "python",
   "name": "python3"
  },
  "language_info": {
   "codemirror_mode": {
    "name": "ipython",
    "version": 3
   },
   "file_extension": ".py",
   "mimetype": "text/x-python",
   "name": "python",
   "nbconvert_exporter": "python",
   "pygments_lexer": "ipython3",
   "version": "3.6.1"
  }
 },
 "nbformat": 4,
 "nbformat_minor": 2
}
